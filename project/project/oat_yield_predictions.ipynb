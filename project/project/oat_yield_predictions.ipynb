{
 "cells": [
  {
   "cell_type": "code",
   "execution_count": 1,
   "metadata": {
    "metadata": {}
   },
   "outputs": [
    {
     "name": "stderr",
     "output_type": "stream",
     "text": [
      "/usr/local/lib/python3.12/site-packages/tqdm/auto.py:22: TqdmWarning: IProgress not found. Please update jupyter and ipywidgets. See https://ipywidgets.readthedocs.io/en/stable/user_install.html\n",
      "  from .autonotebook import tqdm as notebook_tqdm\n"
     ]
    }
   ],
   "source": [
    "from cmdstanpy import CmdStanModel\n",
    "\n",
    "import arviz as az\n",
    "import numpy as np\n",
    "import scipy.stats as stats\n",
    "\n",
    "import matplotlib.pyplot as plt\n",
    "import pandas as pd"
   ]
  },
  {
   "cell_type": "code",
   "execution_count": 7,
   "metadata": {
    "metadata": {}
   },
   "outputs": [
    {
     "data": {
      "text/html": [
       "<div>\n",
       "<style scoped>\n",
       "    .dataframe tbody tr th:only-of-type {\n",
       "        vertical-align: middle;\n",
       "    }\n",
       "\n",
       "    .dataframe tbody tr th {\n",
       "        vertical-align: top;\n",
       "    }\n",
       "\n",
       "    .dataframe thead th {\n",
       "        text-align: right;\n",
       "    }\n",
       "</style>\n",
       "<table border=\"1\" class=\"dataframe\">\n",
       "  <thead>\n",
       "    <tr style=\"text-align: right;\">\n",
       "      <th></th>\n",
       "      <th>year</th>\n",
       "      <th>tIV</th>\n",
       "      <th>tV</th>\n",
       "      <th>tVI</th>\n",
       "      <th>tVII</th>\n",
       "      <th>pIV</th>\n",
       "      <th>pV</th>\n",
       "      <th>pVI</th>\n",
       "      <th>pVII</th>\n",
       "      <th>yields</th>\n",
       "    </tr>\n",
       "  </thead>\n",
       "  <tbody>\n",
       "    <tr>\n",
       "      <th>0</th>\n",
       "      <td>2013</td>\n",
       "      <td>7.349045</td>\n",
       "      <td>13.457325</td>\n",
       "      <td>16.721019</td>\n",
       "      <td>18.097452</td>\n",
       "      <td>34.756809</td>\n",
       "      <td>99.279384</td>\n",
       "      <td>123.914134</td>\n",
       "      <td>55.178108</td>\n",
       "      <td>27.4</td>\n",
       "    </tr>\n",
       "    <tr>\n",
       "      <th>1</th>\n",
       "      <td>2014</td>\n",
       "      <td>9.035669</td>\n",
       "      <td>12.496815</td>\n",
       "      <td>15.121019</td>\n",
       "      <td>19.316883</td>\n",
       "      <td>45.257158</td>\n",
       "      <td>109.534402</td>\n",
       "      <td>66.359402</td>\n",
       "      <td>90.897430</td>\n",
       "      <td>30.5</td>\n",
       "    </tr>\n",
       "    <tr>\n",
       "      <th>2</th>\n",
       "      <td>2015</td>\n",
       "      <td>6.907527</td>\n",
       "      <td>11.548387</td>\n",
       "      <td>15.343011</td>\n",
       "      <td>18.600000</td>\n",
       "      <td>31.000926</td>\n",
       "      <td>54.431734</td>\n",
       "      <td>48.790867</td>\n",
       "      <td>67.840274</td>\n",
       "      <td>26.5</td>\n",
       "    </tr>\n",
       "    <tr>\n",
       "      <th>3</th>\n",
       "      <td>2016</td>\n",
       "      <td>8.014474</td>\n",
       "      <td>13.055263</td>\n",
       "      <td>17.172000</td>\n",
       "      <td>17.902703</td>\n",
       "      <td>42.383687</td>\n",
       "      <td>54.904568</td>\n",
       "      <td>75.604560</td>\n",
       "      <td>132.000163</td>\n",
       "      <td>28.4</td>\n",
       "    </tr>\n",
       "    <tr>\n",
       "      <th>4</th>\n",
       "      <td>2017</td>\n",
       "      <td>6.263014</td>\n",
       "      <td>12.616438</td>\n",
       "      <td>16.793151</td>\n",
       "      <td>17.191781</td>\n",
       "      <td>75.941404</td>\n",
       "      <td>51.875614</td>\n",
       "      <td>87.479789</td>\n",
       "      <td>114.947461</td>\n",
       "      <td>29.8</td>\n",
       "    </tr>\n",
       "    <tr>\n",
       "      <th>5</th>\n",
       "      <td>2018</td>\n",
       "      <td>11.971831</td>\n",
       "      <td>15.518310</td>\n",
       "      <td>17.323944</td>\n",
       "      <td>18.787324</td>\n",
       "      <td>30.442483</td>\n",
       "      <td>51.478846</td>\n",
       "      <td>61.725217</td>\n",
       "      <td>107.651215</td>\n",
       "      <td>23.5</td>\n",
       "    </tr>\n",
       "    <tr>\n",
       "      <th>6</th>\n",
       "      <td>2019</td>\n",
       "      <td>8.604478</td>\n",
       "      <td>11.494030</td>\n",
       "      <td>20.212121</td>\n",
       "      <td>17.531818</td>\n",
       "      <td>25.032399</td>\n",
       "      <td>100.558537</td>\n",
       "      <td>39.239430</td>\n",
       "      <td>58.730420</td>\n",
       "      <td>24.9</td>\n",
       "    </tr>\n",
       "    <tr>\n",
       "      <th>7</th>\n",
       "      <td>2020</td>\n",
       "      <td>7.603175</td>\n",
       "      <td>10.120635</td>\n",
       "      <td>17.198413</td>\n",
       "      <td>17.620635</td>\n",
       "      <td>9.467114</td>\n",
       "      <td>82.901340</td>\n",
       "      <td>125.219463</td>\n",
       "      <td>65.232828</td>\n",
       "      <td>33.1</td>\n",
       "    </tr>\n",
       "    <tr>\n",
       "      <th>8</th>\n",
       "      <td>2021</td>\n",
       "      <td>5.481356</td>\n",
       "      <td>11.310000</td>\n",
       "      <td>18.348333</td>\n",
       "      <td>20.275000</td>\n",
       "      <td>46.461735</td>\n",
       "      <td>91.101709</td>\n",
       "      <td>50.826020</td>\n",
       "      <td>95.049317</td>\n",
       "      <td>31.4</td>\n",
       "    </tr>\n",
       "    <tr>\n",
       "      <th>9</th>\n",
       "      <td>2022</td>\n",
       "      <td>5.750000</td>\n",
       "      <td>12.987931</td>\n",
       "      <td>18.164912</td>\n",
       "      <td>18.274138</td>\n",
       "      <td>43.354483</td>\n",
       "      <td>45.753541</td>\n",
       "      <td>69.129585</td>\n",
       "      <td>87.555208</td>\n",
       "      <td>32.8</td>\n",
       "    </tr>\n",
       "  </tbody>\n",
       "</table>\n",
       "</div>"
      ],
      "text/plain": [
       "   year        tIV         tV        tVI       tVII        pIV          pV  \\\n",
       "0  2013   7.349045  13.457325  16.721019  18.097452  34.756809   99.279384   \n",
       "1  2014   9.035669  12.496815  15.121019  19.316883  45.257158  109.534402   \n",
       "2  2015   6.907527  11.548387  15.343011  18.600000  31.000926   54.431734   \n",
       "3  2016   8.014474  13.055263  17.172000  17.902703  42.383687   54.904568   \n",
       "4  2017   6.263014  12.616438  16.793151  17.191781  75.941404   51.875614   \n",
       "5  2018  11.971831  15.518310  17.323944  18.787324  30.442483   51.478846   \n",
       "6  2019   8.604478  11.494030  20.212121  17.531818  25.032399  100.558537   \n",
       "7  2020   7.603175  10.120635  17.198413  17.620635   9.467114   82.901340   \n",
       "8  2021   5.481356  11.310000  18.348333  20.275000  46.461735   91.101709   \n",
       "9  2022   5.750000  12.987931  18.164912  18.274138  43.354483   45.753541   \n",
       "\n",
       "          pVI        pVII  yields  \n",
       "0  123.914134   55.178108    27.4  \n",
       "1   66.359402   90.897430    30.5  \n",
       "2   48.790867   67.840274    26.5  \n",
       "3   75.604560  132.000163    28.4  \n",
       "4   87.479789  114.947461    29.8  \n",
       "5   61.725217  107.651215    23.5  \n",
       "6   39.239430   58.730420    24.9  \n",
       "7  125.219463   65.232828    33.1  \n",
       "8   50.826020   95.049317    31.4  \n",
       "9   69.129585   87.555208    32.8  "
      ]
     },
     "execution_count": 7,
     "metadata": {},
     "output_type": "execute_result"
    }
   ],
   "source": [
    "PATH = \"oat_data_2.csv\"\n",
    "data = pd.read_csv(PATH)\n",
    "\n",
    "data"
   ]
  },
  {
   "cell_type": "code",
   "execution_count": 8,
   "metadata": {
    "metadata": {}
   },
   "outputs": [
    {
     "data": {
      "text/html": [
       "<div>\n",
       "<style scoped>\n",
       "    .dataframe tbody tr th:only-of-type {\n",
       "        vertical-align: middle;\n",
       "    }\n",
       "\n",
       "    .dataframe tbody tr th {\n",
       "        vertical-align: top;\n",
       "    }\n",
       "\n",
       "    .dataframe thead th {\n",
       "        text-align: right;\n",
       "    }\n",
       "</style>\n",
       "<table border=\"1\" class=\"dataframe\">\n",
       "  <thead>\n",
       "    <tr style=\"text-align: right;\">\n",
       "      <th></th>\n",
       "      <th>year</th>\n",
       "      <th>tIV</th>\n",
       "      <th>tV</th>\n",
       "      <th>tVI</th>\n",
       "      <th>tVII</th>\n",
       "      <th>pIV</th>\n",
       "      <th>pV</th>\n",
       "      <th>pVI</th>\n",
       "      <th>pVII</th>\n",
       "      <th>yields</th>\n",
       "    </tr>\n",
       "  </thead>\n",
       "  <tbody>\n",
       "    <tr>\n",
       "      <th>count</th>\n",
       "      <td>10.00000</td>\n",
       "      <td>10.000000</td>\n",
       "      <td>10.000000</td>\n",
       "      <td>10.000000</td>\n",
       "      <td>10.000000</td>\n",
       "      <td>10.000000</td>\n",
       "      <td>10.000000</td>\n",
       "      <td>10.000000</td>\n",
       "      <td>10.000000</td>\n",
       "      <td>10.000000</td>\n",
       "    </tr>\n",
       "    <tr>\n",
       "      <th>mean</th>\n",
       "      <td>2017.50000</td>\n",
       "      <td>7.698057</td>\n",
       "      <td>12.460513</td>\n",
       "      <td>17.239792</td>\n",
       "      <td>18.359773</td>\n",
       "      <td>38.409820</td>\n",
       "      <td>74.181967</td>\n",
       "      <td>74.828847</td>\n",
       "      <td>87.508243</td>\n",
       "      <td>28.830000</td>\n",
       "    </tr>\n",
       "    <tr>\n",
       "      <th>std</th>\n",
       "      <td>3.02765</td>\n",
       "      <td>1.900288</td>\n",
       "      <td>1.474451</td>\n",
       "      <td>1.471524</td>\n",
       "      <td>0.925308</td>\n",
       "      <td>17.349130</td>\n",
       "      <td>24.766855</td>\n",
       "      <td>29.638310</td>\n",
       "      <td>25.740071</td>\n",
       "      <td>3.263281</td>\n",
       "    </tr>\n",
       "    <tr>\n",
       "      <th>min</th>\n",
       "      <td>2013.00000</td>\n",
       "      <td>5.481356</td>\n",
       "      <td>10.120635</td>\n",
       "      <td>15.121019</td>\n",
       "      <td>17.191781</td>\n",
       "      <td>9.467114</td>\n",
       "      <td>45.753541</td>\n",
       "      <td>39.239430</td>\n",
       "      <td>55.178108</td>\n",
       "      <td>23.500000</td>\n",
       "    </tr>\n",
       "    <tr>\n",
       "      <th>25%</th>\n",
       "      <td>2015.25000</td>\n",
       "      <td>6.424142</td>\n",
       "      <td>11.507619</td>\n",
       "      <td>16.739052</td>\n",
       "      <td>17.691152</td>\n",
       "      <td>30.582093</td>\n",
       "      <td>52.514644</td>\n",
       "      <td>53.550820</td>\n",
       "      <td>65.884690</td>\n",
       "      <td>26.725000</td>\n",
       "    </tr>\n",
       "    <tr>\n",
       "      <th>50%</th>\n",
       "      <td>2017.50000</td>\n",
       "      <td>7.476110</td>\n",
       "      <td>12.556627</td>\n",
       "      <td>17.185206</td>\n",
       "      <td>18.185795</td>\n",
       "      <td>38.570248</td>\n",
       "      <td>68.902954</td>\n",
       "      <td>67.744493</td>\n",
       "      <td>89.226319</td>\n",
       "      <td>29.100000</td>\n",
       "    </tr>\n",
       "    <tr>\n",
       "      <th>75%</th>\n",
       "      <td>2019.75000</td>\n",
       "      <td>8.456977</td>\n",
       "      <td>13.038430</td>\n",
       "      <td>17.954670</td>\n",
       "      <td>18.740493</td>\n",
       "      <td>44.781489</td>\n",
       "      <td>97.234965</td>\n",
       "      <td>84.510982</td>\n",
       "      <td>104.500741</td>\n",
       "      <td>31.175000</td>\n",
       "    </tr>\n",
       "    <tr>\n",
       "      <th>max</th>\n",
       "      <td>2022.00000</td>\n",
       "      <td>11.971831</td>\n",
       "      <td>15.518310</td>\n",
       "      <td>20.212121</td>\n",
       "      <td>20.275000</td>\n",
       "      <td>75.941404</td>\n",
       "      <td>109.534402</td>\n",
       "      <td>125.219463</td>\n",
       "      <td>132.000163</td>\n",
       "      <td>33.100000</td>\n",
       "    </tr>\n",
       "  </tbody>\n",
       "</table>\n",
       "</div>"
      ],
      "text/plain": [
       "             year        tIV         tV        tVI       tVII        pIV  \\\n",
       "count    10.00000  10.000000  10.000000  10.000000  10.000000  10.000000   \n",
       "mean   2017.50000   7.698057  12.460513  17.239792  18.359773  38.409820   \n",
       "std       3.02765   1.900288   1.474451   1.471524   0.925308  17.349130   \n",
       "min    2013.00000   5.481356  10.120635  15.121019  17.191781   9.467114   \n",
       "25%    2015.25000   6.424142  11.507619  16.739052  17.691152  30.582093   \n",
       "50%    2017.50000   7.476110  12.556627  17.185206  18.185795  38.570248   \n",
       "75%    2019.75000   8.456977  13.038430  17.954670  18.740493  44.781489   \n",
       "max    2022.00000  11.971831  15.518310  20.212121  20.275000  75.941404   \n",
       "\n",
       "               pV         pVI        pVII     yields  \n",
       "count   10.000000   10.000000   10.000000  10.000000  \n",
       "mean    74.181967   74.828847   87.508243  28.830000  \n",
       "std     24.766855   29.638310   25.740071   3.263281  \n",
       "min     45.753541   39.239430   55.178108  23.500000  \n",
       "25%     52.514644   53.550820   65.884690  26.725000  \n",
       "50%     68.902954   67.744493   89.226319  29.100000  \n",
       "75%     97.234965   84.510982  104.500741  31.175000  \n",
       "max    109.534402  125.219463  132.000163  33.100000  "
      ]
     },
     "execution_count": 8,
     "metadata": {},
     "output_type": "execute_result"
    }
   ],
   "source": [
    "data.describe()"
   ]
  },
  {
   "cell_type": "code",
   "execution_count": 18,
   "metadata": {
    "metadata": {}
   },
   "outputs": [
    {
     "name": "stderr",
     "output_type": "stream",
     "text": [
      "INFO:cmdstanpy:compiling stan file /root/Data-Analitics-Project/project/project/oat_yield_prior.stan to exe file /root/Data-Analitics-Project/project/project/oat_yield_prior\n"
     ]
    },
    {
     "name": "stderr",
     "output_type": "stream",
     "text": [
      "INFO:cmdstanpy:compiled model executable: /root/Data-Analitics-Project/project/project/oat_yield_prior\n"
     ]
    }
   ],
   "source": [
    "model_prior = CmdStanModel(stan_file='oat_yield_prior.stan')\n",
    "N = len(data)\n",
    "R = 1000\n",
    "\n"
   ]
  },
  {
   "cell_type": "code",
   "execution_count": 19,
   "metadata": {},
   "outputs": [
    {
     "name": "stderr",
     "output_type": "stream",
     "text": [
      "INFO:cmdstanpy:CmdStan start processing\n",
      "chain 1 |\u001b[34m██████████\u001b[0m| 00:00 Sampling completed"
     ]
    },
    {
     "name": "stdout",
     "output_type": "stream",
     "text": [
      "                                                                                "
     ]
    },
    {
     "name": "stderr",
     "output_type": "stream",
     "text": [
      "\n",
      "INFO:cmdstanpy:CmdStan done processing.\n"
     ]
    },
    {
     "name": "stdout",
     "output_type": "stream",
     "text": [
      "\n"
     ]
    }
   ],
   "source": [
    "sim=model_prior.sample(data=dict(N=N, precipitation_june=data[\"pVI\"], average_temperature_may=data[\"tV\"]),\n",
    "                     iter_sampling=R,\n",
    "                     iter_warmup=1,\n",
    "                     chains=1,\n",
    "                     fixed_param=True,\n",
    "                     seed=42,refresh=R)"
   ]
  },
  {
   "cell_type": "code",
   "execution_count": 21,
   "metadata": {
    "metadata": {}
   },
   "outputs": [
    {
     "data": {
      "image/png": "[encoded data removed]",
      "text/plain": [
       "<Figure size 432x288 with 1 Axes>"
      ]
     },
     "metadata": {
      "needs_background": "light"
     },
     "output_type": "display_data"
    }
   ],
   "source": [
    "yields_pred_prior = sim.stan_variable(\"yields\")\n",
    "yields_pred_prior_means = np.mean(yields_pred_prior, axis=0)\n",
    "\n",
    "t = list(range(N))\n",
    "\n",
    "plt.bar(t, yields_pred_prior_means, alpha=0.5)\n",
    "plt.bar(t, list(data[\"yields\"]), alpha=0.5)\n",
    "plt.legend([\"prior predictions\", \"data\"])\n",
    "plt.show()"
   ]
  },
  {
   "cell_type": "code",
   "execution_count": 22,
   "metadata": {
    "metadata": {}
   },
   "outputs": [
    {
     "name": "stderr",
     "output_type": "stream",
     "text": [
      "INFO:cmdstanpy:compiling stan file /root/Data-Analitics-Project/project/project/oat_yield_posterior.stan to exe file /root/Data-Analitics-Project/project/project/oat_yield_posterior\n",
      "INFO:cmdstanpy:compiled model executable: /root/Data-Analitics-Project/project/project/oat_yield_posterior\n",
      "INFO:cmdstanpy:CmdStan start processing\n",
      "chain 1 |\u001b[33m          \u001b[0m| 00:00 Status\n",
      "\u001b[A\n",
      "\n",
      "chain 1 |\u001b[33m█▎        \u001b[0m| 00:00 Iteration:  100 / 2000 [  5%]  (Warmup)\n",
      "\u001b[A\n",
      "\n",
      "\u001b[A\u001b[A\n",
      "\n",
      "\u001b[A\u001b[A\n",
      "\u001b[A\n",
      "\n",
      "\u001b[A\u001b[A\n",
      "\n",
      "\u001b[A\u001b[A\n",
      "\n",
      "chain 1 |\u001b[33m██▋       \u001b[0m| 00:01 Iteration:  400 / 2000 [ 20%]  (Warmup)\n",
      "\u001b[A\n",
      "\u001b[A\n",
      "\n",
      "chain 1 |\u001b[33m███▋      \u001b[0m| 00:01 Iteration:  600 / 2000 [ 30%]  (Warmup)\n",
      "\u001b[A\n",
      "\n",
      "chain 1 |\u001b[33m████▌     \u001b[0m| 00:01 Iteration:  800 / 2000 [ 40%]  (Warmup)\n",
      "\u001b[A\n",
      "\n",
      "chain 1 |\u001b[34m██████▎   \u001b[0m| 00:01 Iteration: 1100 / 2000 [ 55%]  (Sampling)\n",
      "\n",
      "\u001b[A\u001b[A\n",
      "\n",
      "chain 1 |\u001b[34m███████▋  \u001b[0m| 00:01 Iteration: 1400 / 2000 [ 70%]  (Sampling)\n",
      "\n",
      "chain 1 |\u001b[34m█████████ \u001b[0m| 00:02 Iteration: 1700 / 2000 [ 85%]  (Sampling)\n",
      "\n",
      "chain 1 |\u001b[34m██████████\u001b[0m| 00:02 Sampling completed                       \n",
      "chain 2 |\u001b[34m██████████\u001b[0m| 00:02 Sampling completed\n",
      "\n",
      "chain 3 |\u001b[34m██████████\u001b[0m| 00:02 Sampling completed\n",
      "chain 4 |\u001b[34m██████████\u001b[0m| 00:02 Sampling completed                       "
     ]
    },
    {
     "name": "stdout",
     "output_type": "stream",
     "text": [
      "                                                                                                                                                                                                                                                                                                                                "
     ]
    },
    {
     "name": "stderr",
     "output_type": "stream",
     "text": [
      "\n",
      "INFO:cmdstanpy:CmdStan done processing.\n"
     ]
    },
    {
     "name": "stdout",
     "output_type": "stream",
     "text": [
      "\n"
     ]
    }
   ],
   "source": [
    "model_posterior = CmdStanModel(stan_file='oat_yield_posterior.stan')\n",
    "\n",
    "fit = model_posterior.sample(data=dict(N=N, precipitation_june=data[\"pVI\"], average_temperature_may=data[\"tV\"], yields=data[\"yields\"]), seed=42)"
   ]
  },
  {
   "cell_type": "code",
   "execution_count": 23,
   "metadata": {
    "metadata": {}
   },
   "outputs": [
    {
     "data": {
      "image/png": "[encoded data removed]",
      "text/plain": [
       "<Figure size 432x288 with 1 Axes>"
      ]
     },
     "metadata": {
      "needs_background": "light"
     },
     "output_type": "display_data"
    }
   ],
   "source": [
    "yields_pred_posterior = fit.stan_variable(\"yields_pred\")\n",
    "yields_pred_posterior_means = np.mean(yields_pred_posterior, axis=0)\n",
    "\n",
    "plt.bar(t, yields_pred_posterior_means, alpha=0.5)\n",
    "plt.bar(t, list(data[\"yields\"]), alpha=0.5)\n",
    "plt.legend([\"posterior predictions\", \"data\"])\n",
    "plt.show()"
   ]
  },
  {
   "cell_type": "code",
   "execution_count": 24,
   "metadata": {},
   "outputs": [
    {
     "name": "stdout",
     "output_type": "stream",
     "text": [
      "a: 19.970403625\n",
      "b: 0.099591530925\n",
      "c: 0.6314694682499999\n",
      "d: 0.0035382739325\n"
     ]
    }
   ],
   "source": [
    "a = np.mean(fit.stan_variable(\"a\"))\n",
    "b = np.mean(fit.stan_variable(\"b\"))\n",
    "c = np.mean(fit.stan_variable(\"c\"))\n",
    "d = np.mean(fit.stan_variable(\"d\"))\n",
    "print(\"a: \" + str(a))\n",
    "print(\"b: \" + str(b))\n",
    "print(\"c: \" + str(c))\n",
    "print(\"d: \"+ str(d))"
   ]
  },
  {
   "cell_type": "code",
   "execution_count": 25,
   "metadata": {},
   "outputs": [
    {
     "name": "stdout",
     "output_type": "stream",
     "text": [
      "10\n"
     ]
    }
   ],
   "source": [
    "data = pd.read_csv(PATH)\n",
    "N = len(data)\n",
    "\n",
    "res = [0] * N \n",
    "for i in range(0, N):\n",
    "    res[i] = a - b * (data[\"tV\"][i] ** 2) + c * data[\"pVI\"][i] - d * (data[\"pVI\"][i] ** 2)\n",
    "\n",
    "print(len(res))"
   ]
  },
  {
   "cell_type": "code",
   "execution_count": 26,
   "metadata": {},
   "outputs": [
    {
     "name": "stdout",
     "output_type": "stream",
     "text": [
      "[25.853230999748952, 30.7400536489967, 29.075264133499317, 30.513055847901004, 32.281389025384115, 21.483734027715897, 26.14360053042909, 33.361953897036365, 30.185755798731975, 29.914838170347902]\n"
     ]
    },
    {
     "data": {
      "image/png": "[encoded data removed]",
      "text/plain": [
       "<Figure size 432x288 with 1 Axes>"
      ]
     },
     "metadata": {
      "needs_background": "light"
     },
     "output_type": "display_data"
    }
   ],
   "source": [
    "import matplotlib.pyplot as plt\n",
    "\n",
    "# Tworzenie danych do wykresu\n",
    "t = list(range(2013, N + 2013))  # Numery indeksów, które będziemy traktować jako wartości x\n",
    "print(res)\n",
    "\n",
    "# Tworzenie wykresu\n",
    "plt.bar(t, res, alpha=0.5)  # Słupki dla danych yields_pred_posterior_means\n",
    "plt.bar(t, list(data[\"yields\"]), alpha=0.5)\n",
    "plt.legend([\"posterior predictions\", \"data\"])  # Legenda\n",
    "plt.xlabel('years')  # Etykieta osi x\n",
    "plt.ylabel('Value')  # Etykieta osi y\n",
    "plt.title('Comparison of data and posterior predictions')  # Tytuł wykresu\n",
    "plt.show()  # Pokazanie wykresu"
   ]
  },
  {
   "cell_type": "code",
   "execution_count": 27,
   "metadata": {},
   "outputs": [
    {
     "name": "stderr",
     "output_type": "stream",
     "text": [
      "INFO:cmdstanpy:found newer exe file, not recompiling\n"
     ]
    },
    {
     "name": "stderr",
     "output_type": "stream",
     "text": [
      "INFO:cmdstanpy:CmdStan start processing\n",
      "chain 1 |\u001b[34m██████████\u001b[0m| 00:00 Sampling completed"
     ]
    },
    {
     "name": "stdout",
     "output_type": "stream",
     "text": [
      "                                                                                "
     ]
    },
    {
     "name": "stderr",
     "output_type": "stream",
     "text": [
      "\n",
      "INFO:cmdstanpy:CmdStan done processing.\n"
     ]
    },
    {
     "name": "stdout",
     "output_type": "stream",
     "text": [
      "\n"
     ]
    }
   ],
   "source": [
    "model_prior2 = CmdStanModel(stan_file='oat_yield_prior_2.stan')\n",
    "N = len(data)\n",
    "R = 1000\n",
    "d = {\n",
    "    \"N\": N,\n",
    "    \"precipitation_april\": data[\"pIV\"],\n",
    "    \"precipitation_may\": data[\"pV\"],\n",
    "    \"precipitation_june\": data[\"pVI\"],\n",
    "    \"precipitation_july\": data[\"pVII\"],\n",
    "    \"average_temperature_april\": data[\"tIV\"],\n",
    "    \"average_temperature_may\": data[\"tV\"],\n",
    "    \"average_temperature_june\": data[\"tVI\"],\n",
    "    \"average_temperature_july\": data[\"tVII\"]\n",
    "}\n",
    "sim=model_prior2.sample( data=d,\n",
    "                     iter_sampling=R,\n",
    "                     iter_warmup=1,\n",
    "                     chains=1,\n",
    "                     fixed_param=True,\n",
    "                     seed=42,refresh=R)"
   ]
  },
  {
   "cell_type": "code",
   "execution_count": 12,
   "metadata": {},
   "outputs": [
    {
     "data": {
      "image/png": "[encoded data removed]",
      "text/plain": [
       "<Figure size 432x288 with 1 Axes>"
      ]
     },
     "metadata": {
      "needs_background": "light"
     },
     "output_type": "display_data"
    }
   ],
   "source": [
    "yields_pred_prior = sim.stan_variable(\"yields\")\n",
    "yields_pred_prior_means = np.mean(yields_pred_prior, axis=0)\n",
    "\n",
    "t = list(range(N))\n",
    "\n",
    "plt.bar(t, yields_pred_prior_means, alpha=0.5)\n",
    "plt.bar(t, list(data[\"yields\"]), alpha=0.5)\n",
    "plt.legend([\"prior predictions\", \"data\"])\n",
    "plt.show()"
   ]
  },
  {
   "cell_type": "code",
   "execution_count": 13,
   "metadata": {},
   "outputs": [
    {
     "name": "stderr",
     "output_type": "stream",
     "text": [
      "INFO:cmdstanpy:compiling stan file /root/Data-Analitics-Project/project/project/oat_yield_posterior_2.stan to exe file /root/Data-Analitics-Project/project/project/oat_yield_posterior_2\n",
      "INFO:cmdstanpy:compiled model executable: /root/Data-Analitics-Project/project/project/oat_yield_posterior_2\n"
     ]
    }
   ],
   "source": [
    "model_posterior2 = CmdStanModel(stan_file='oat_yield_posterior_2.stan')\n",
    "\n",
    "data2 = {\n",
    "    \"N\": N,\n",
    "    \"precipitation_april\": data[\"pIV\"],\n",
    "    \"precipitation_may\": data[\"pV\"],\n",
    "    \"precipitation_june\": data[\"pVI\"],\n",
    "    \"precipitation_july\": data[\"pVII\"],\n",
    "    \"average_temperature_april\": data[\"tIV\"],\n",
    "    \"average_temperature_may\": data[\"tV\"],\n",
    "    \"average_temperature_june\": data[\"tVI\"],\n",
    "    \"average_temperature_july\": data[\"tVII\"],\n",
    "    \"yields\": data[\"yields\"]\n",
    "}"
   ]
  },
  {
   "cell_type": "code",
   "execution_count": 14,
   "metadata": {},
   "outputs": [
    {
     "name": "stderr",
     "output_type": "stream",
     "text": [
      "INFO:cmdstanpy:CmdStan start processing\n",
      "chain 1 |\u001b[33m          \u001b[0m| 00:00 Status\n",
      "\u001b[A\n",
      "\n",
      "chain 1 |\u001b[33m██▎       \u001b[0m| 00:00 Iteration:  300 / 2000 [ 15%]  (Warmup)\n",
      "\u001b[A\n",
      "\n",
      "\u001b[A\u001b[A\n",
      "\n",
      "\u001b[A\u001b[A\n",
      "\u001b[A\n",
      "\n",
      "\u001b[A\u001b[A\n",
      "\n",
      "\u001b[A\u001b[A\n",
      "\u001b[A\n",
      "\n",
      "chain 1 |\u001b[33m████▌     \u001b[0m| 00:03 Iteration:  800 / 2000 [ 40%]  (Warmup)\n",
      "\n",
      "\u001b[A\u001b[A\n",
      "chain 1 |\u001b[34m█████▍    \u001b[0m| 00:04 Iteration: 1000 / 2000 [ 50%]  (Warmup)\n",
      "\n",
      "\u001b[A\u001b[A\n",
      "\u001b[A\n",
      "\n",
      "\u001b[A\u001b[A\n",
      "chain 1 |\u001b[34m██████▎   \u001b[0m| 00:05 Iteration: 1100 / 2000 [ 55%]  (Sampling)\n",
      "\n",
      "\u001b[A\u001b[A\n",
      "\u001b[A\n",
      "\n",
      "chain 1 |\u001b[34m██████▊   \u001b[0m| 00:06 Iteration: 1200 / 2000 [ 60%]  (Sampling)\n",
      "\u001b[A\n",
      "\n",
      "chain 1 |\u001b[34m███████▎  \u001b[0m| 00:06 Iteration: 1300 / 2000 [ 65%]  (Sampling)\n",
      "\u001b[A\n",
      "\n",
      "chain 1 |\u001b[34m███████▋  \u001b[0m| 00:07 Iteration: 1400 / 2000 [ 70%]  (Sampling)\n",
      "\u001b[A\n",
      "\n",
      "chain 1 |\u001b[34m████████▏ \u001b[0m| 00:08 Iteration: 1500 / 2000 [ 75%]  (Sampling)\n",
      "\u001b[A\n",
      "\n",
      "chain 1 |\u001b[34m████████▋ \u001b[0m| 00:08 Iteration: 1600 / 2000 [ 80%]  (Sampling)\n",
      "\u001b[A\n",
      "\n",
      "chain 1 |\u001b[34m█████████ \u001b[0m| 00:09 Iteration: 1700 / 2000 [ 85%]  (Sampling)\n",
      "\n",
      "\u001b[A\u001b[A\n",
      "\u001b[A\n",
      "\n",
      "chain 1 |\u001b[34m█████████▌\u001b[0m| 00:09 Iteration: 1800 / 2000 [ 90%]  (Sampling)\n",
      "\u001b[A\n",
      "\n",
      "chain 1 |\u001b[34m██████████\u001b[0m| 00:10 Iteration: 1900 / 2000 [ 95%]  (Sampling)\n",
      "\u001b[A\n",
      "chain 1 |\u001b[34m██████████\u001b[0m| 00:11 Sampling completed                       \n",
      "chain 2 |\u001b[34m██████████\u001b[0m| 00:11 Sampling completed                       \n",
      "chain 3 |\u001b[34m██████████\u001b[0m| 00:11 Sampling completed                       \n",
      "chain 4 |\u001b[34m██████████\u001b[0m| 00:11 Sampling completed                       "
     ]
    },
    {
     "name": "stdout",
     "output_type": "stream",
     "text": [
      "                                                                                                                                                                                                                                                                                                                                "
     ]
    },
    {
     "name": "stderr",
     "output_type": "stream",
     "text": [
      "\n",
      "INFO:cmdstanpy:CmdStan done processing.\n"
     ]
    },
    {
     "name": "stdout",
     "output_type": "stream",
     "text": [
      "\n"
     ]
    }
   ],
   "source": [
    "fit2 = model_posterior2.sample(data=data2, seed=42)"
   ]
  },
  {
   "cell_type": "code",
   "execution_count": 16,
   "metadata": {},
   "outputs": [
    {
     "data": {
      "image/png": "[encoded data removed]",
      "text/plain": [
       "<Figure size 432x288 with 1 Axes>"
      ]
     },
     "metadata": {
      "needs_background": "light"
     },
     "output_type": "display_data"
    }
   ],
   "source": [
    "yields_pred_posterior = fit2.stan_variable(\"yields_pred\")\n",
    "yields_pred_posterior_means = np.mean(yields_pred_posterior, axis=0)\n",
    "\n",
    "plt.bar(t, yields_pred_posterior_means, alpha=0.5)\n",
    "plt.bar(t, list(data[\"yields\"]), alpha=0.5)\n",
    "plt.legend([\"posterior predictions\", \"data\"])\n",
    "plt.show()"
   ]
  },
  {
   "cell_type": "code",
   "execution_count": 17,
   "metadata": {},
   "outputs": [
    {
     "name": "stdout",
     "output_type": "stream",
     "text": [
      "a: 13.298440636865\n",
      "b[1]: 0.067464117970725\n",
      "c[1]: 0.12450540948525\n",
      "d[1]: 0.00251648224888075\n",
      "b[2]: 0.034515066729525\n",
      "c[2]: -0.23986933898749999\n",
      "d[2]: -0.00176853612790375\n",
      "b[3]: 0.00026861852430350007\n",
      "c[3]: -0.032390004110975\n",
      "d[3]: -0.00058967610873927\n",
      "b[4]: 0.041378476891625\n",
      "c[4]: 0.9285079770237501\n",
      "d[4]: 0.004441409279925001\n"
     ]
    }
   ],
   "source": [
    "a = np.mean(fit2.stan_variable(\"a\"))\n",
    "\n",
    "# Średnie wartości dla tablic b, c, d\n",
    "b = np.mean(fit2.stan_variable(\"b\"), axis=0)\n",
    "c = np.mean(fit2.stan_variable(\"c\"), axis=0)\n",
    "d = np.mean(fit2.stan_variable(\"d\"), axis=0)\n",
    "\n",
    "# Wypisanie wartości parametru a\n",
    "print(\"a: \" + str(a))\n",
    "\n",
    "# Wypisanie wartości parametrów b, c, d dla każdego miesiąca\n",
    "for i in range(4):\n",
    "    print(f\"b[{i+1}]: \" + str(b[i]))\n",
    "    print(f\"c[{i+1}]: \" + str(c[i]))\n",
    "    print(f\"d[{i+1}]: \" + str(d[i]))"
   ]
  }
 ],
 "metadata": {
  "kernelspec": {
   "display_name": "Python 3",
   "language": "python",
   "name": "python3"
  },
  "language_info": {
   "codemirror_mode": {
    "name": "ipython",
    "version": 3
   },
   "file_extension": ".py",
   "mimetype": "text/x-python",
   "name": "python",
   "nbconvert_exporter": "python",
   "pygments_lexer": "ipython3",
   "version": "3.12.2"
  }
 },
 "nbformat": 4,
 "nbformat_minor": 2
}
