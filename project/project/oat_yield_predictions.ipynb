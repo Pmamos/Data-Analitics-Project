{
 "cells": [
  {
   "cell_type": "markdown",
   "metadata": {},
   "source": [
    "# Prediction of oat yields in Poland based on temperature and precipitation during its growth."
   ]
  },
  {
   "cell_type": "markdown",
   "metadata": {},
   "source": [
    "### Introduction\n",
    "In this notebook we’ve created a Bayesian regression model to predict yields of oat in Poland, in a given year, based on monthly average temperature, and precipitation during the time of its growth. The point of creating this model is being able to predict the approximate yields before the time of harvest, which can be useful for planning the agricultural economy (how much are we able to sell, etc). Having that information even one month before the harvest could be crucial.\n",
    "\n",
    "We've decided to choose this topic due to the increasingly changing rainfall patterns, longer dry periods, and quite low soil quality, which are unfavorable for most agricultural crops. Oat on the other hand can withstand harsher conditions, and in our opinion is underutilized in Polish agriculture.\n",
    "\n",
    "Yield of oat depends on plenty of factors, such as type of the oat, soil fertility, fertilization, sowing density, agrotechnical treatments, and weather conditions. We are aware that it’s impossible for us to accurately predict yields on a specific field purely based on the weather. That’s why we are considering yields of a whole country to average all of the other factors as much as possible, getting a model for an average farm."
   ]
  },
  {
   "cell_type": "markdown",
   "metadata": {},
   "source": [
    "### Data sources\n",
    "The oat yield data comes from the public GUS data, which contains the yearly average oat yields in Poland ranging only from 2010 (it’s fine, because the most recent technological changes made older data somewhat redundant). It contains oat yields measured by dt/ha (decitons per hectare). This unit is very important because it doesn’t measure the total mass of our yields, but rather the efficiency of the fields (size of the fields doesn’t matter).\n",
    "\n",
    "The weather data comes from the public IMGW data. We decided to use data from 2013 to 2023. Provided csv files contain monthly precipitation (mm), or monthly average temperature (°C) for each measuring station (precipitation and temperature data came in separate files). Each provided csv file contained data for only one year, which required a lot of preprocessing.\n",
    "\n",
    "Note: in this project we also used two small, complete datasets, contained in the literature we used for our project. We only used that data for testing priors, because it comes from special experimental fields (belonging to University of Life Sciences in Poznań, and ZD UNG Sadłowice). These fields were kept in perfect conditions during the research, which made the yields far better than of an average field in Poland.\n"
   ]
  },
  {
   "cell_type": "markdown",
   "metadata": {},
   "source": [
    "### Data preprocessing\n",
    "First, we parsed the weather data for each year by averaging precipitation and temperature of all of the measuring stations for each month (since we want to predict yields for the whole country). Then we merged precipitation and temperature data, and discarded all of the irrelevant months, only considering the period of oat growth (from April to July). Finally, we combined all of the chosen years (2013 to 2023), and merged with yearly yield data. The created table was exported to a new csv file."
   ]
  },
  {
   "cell_type": "code",
   "execution_count": 1,
   "metadata": {},
   "outputs": [
    {
     "name": "stderr",
     "output_type": "stream",
     "text": [
      "/usr/local/lib/python3.12/site-packages/tqdm/auto.py:22: TqdmWarning: IProgress not found. Please update jupyter and ipywidgets. See https://ipywidgets.readthedocs.io/en/stable/user_install.html\n",
      "  from .autonotebook import tqdm as notebook_tqdm\n"
     ]
    }
   ],
   "source": [
    "from cmdstanpy import CmdStanModel\n",
    "\n",
    "import arviz as az\n",
    "import numpy as np\n",
    "import scipy.stats as stats\n",
    "\n",
    "import matplotlib.pyplot as plt\n",
    "import pandas as pd"
   ]
  },
  {
   "cell_type": "code",
   "execution_count": 2,
   "metadata": {},
   "outputs": [],
   "source": [
    "df = pd.read_csv(\"oat_data_1.csv\")\n",
    "df = df.drop([\"pIV-VII\", \"tIV-VII\"], axis=1)\n",
    "df.to_csv(\"oat_data_1_2.csv\", index=False)"
   ]
  },
  {
   "cell_type": "code",
   "execution_count": 25,
   "metadata": {
    "metadata": {}
   },
   "outputs": [
    {
     "data": {
      "text/plain": [
       "[   year   pIV    pV    pVI   pVII  tIV    tV   tVI  tVII  yields\n",
       " 0  1985  21.5  46.8   59.5   24.5  7.5  14.9  14.3  18.0   41.40\n",
       " 1  1986  32.6  53.3   83.7   56.8  7.4  14.7  16.2  18.0   58.80\n",
       " 2  1987  28.0  26.0   82.3  111.3  8.0  10.9  15.0  17.1   57.40\n",
       " 3  1988  28.9  23.3  151.5  103.3  8.0  15.4  16.5  18.7   30.70\n",
       " 4  1989  25.9   8.8   47.5   75.9  8.7  14.5  16.1  18.4   37.10\n",
       " 5  1990  49.9  21.8  109.1   45.6  8.0  14.3  16.5  17.0   52.80\n",
       " 6  1994  47.5  66.4   34.3   63.5  9.1  12.0  15.2  21.9   43.08\n",
       " 7  1995  12.0  77.6   89.1   16.3  8.2  12.7  16.0  21.0   56.11\n",
       " 8  1996  13.8  74.2   33.8  216.2  8.3  12.7  16.4  15.8   50.25\n",
       " 9  1997  39.9  67.6   47.4  177.4  5.5  12.9  17.0  18.0   58.25,\n",
       "    year        pIV          pV         pVI        pVII        tIV         tV  \\\n",
       " 0  2013  34.756809   99.279384  123.914134   55.178108   7.349045  13.457325   \n",
       " 1  2014  45.257158  109.534402   66.359402   90.897430   9.035669  12.496815   \n",
       " 2  2015  31.000926   54.431734   48.790867   67.840274   6.907527  11.548387   \n",
       " 3  2016  42.383687   54.904568   75.604560  132.000163   8.014474  13.055263   \n",
       " 4  2017  75.941404   51.875614   87.479789  114.947461   6.263014  12.616438   \n",
       " 5  2018  30.442483   51.478846   61.725217  107.651215  11.971831  15.518310   \n",
       " 6  2019  25.032399  100.558537   39.239430   58.730420   8.604478  11.494030   \n",
       " 7  2020   9.467114   82.901340  125.219463   65.232828   7.603175  10.120635   \n",
       " 8  2021  46.461735   91.101709   50.826020   95.049317   5.481356  11.310000   \n",
       " 9  2022  43.354483   45.753541   69.129585   87.555208   5.750000  12.987931   \n",
       " \n",
       "          tVI       tVII  yields  \n",
       " 0  16.721019  18.097452    27.4  \n",
       " 1  15.121019  19.316883    30.5  \n",
       " 2  15.343011  18.600000    26.5  \n",
       " 3  17.172000  17.902703    28.4  \n",
       " 4  16.793151  17.191781    29.8  \n",
       " 5  17.323944  18.787324    23.5  \n",
       " 6  20.212121  17.531818    24.9  \n",
       " 7  17.198413  17.620635    33.1  \n",
       " 8  18.348333  20.275000    31.4  \n",
       " 9  18.164912  18.274138    32.8  ,\n",
       "    year   pIV    pV   pVI  pVII  tIV    tV   tVI  tVII  yields\n",
       " 0  1976  57.2  48.2  56.5    24  7.5  11.7  15.0  17.5    23.4\n",
       " 1  1977  69.1  34.7  62.4    56  6.6  13.1  16.8  15.9    19.3\n",
       " 2  1978  58.1  42.3  71.7    33  6.0  11.5  15.1  15.8    22.1\n",
       " 3  1979  78.9  41.1  31.7    55  6.2  14.2  19.2  15.3     6.0]"
      ]
     },
     "execution_count": 25,
     "metadata": {},
     "output_type": "execute_result"
    }
   ],
   "source": [
    "paths = [\"oat_data_1_2.csv\", \"oat_data_2.csv\", \"oat_data_3.csv\"]\n",
    "data = []\n",
    "\n",
    "for path in paths:\n",
    "    data.append(pd.read_csv(path))\n",
    "\n",
    "data_labels = [\"data from the article\", \"data for Poland\", \"random old data found on internet\", \"all of the data together\"]\n",
    "#data.append(pd.concat(data, ignore_index=True))\n",
    "\n",
    "data"
   ]
  },
  {
   "cell_type": "code",
   "execution_count": 22,
   "metadata": {
    "metadata": {}
   },
   "outputs": [
    {
     "name": "stdout",
     "output_type": "stream",
     "text": [
      "              year        pIV         pV         pVI        pVII        tIV  \\\n",
      "count    10.000000  10.000000  10.000000   10.000000   10.000000  10.000000   \n",
      "mean   1990.700000  30.000000  46.580000   73.820000   89.080000   7.870000   \n",
      "std       4.423423  12.857078  24.970774   37.179917   64.879303   0.973025   \n",
      "min    1985.000000  12.000000   8.800000   33.800000   16.300000   5.500000   \n",
      "25%    1987.250000  22.600000  23.975000   47.425000   48.400000   7.625000   \n",
      "50%    1989.500000  28.450000  50.050000   70.900000   69.700000   8.000000   \n",
      "75%    1994.750000  38.075000  67.300000   87.750000  109.300000   8.275000   \n",
      "max    1997.000000  49.900000  77.600000  151.500000  216.200000   9.100000   \n",
      "\n",
      "              tV        tVI       tVII     yields  \n",
      "count  10.000000  10.000000  10.000000  10.000000  \n",
      "mean   13.500000  15.920000  18.390000  48.589000  \n",
      "std     1.464392   0.828385   1.825407   9.923789  \n",
      "min    10.900000  14.300000  15.800000  30.700000  \n",
      "25%    12.700000  15.400000  17.325000  41.820000  \n",
      "50%    13.600000  16.150000  18.000000  51.525000  \n",
      "75%    14.650000  16.475000  18.625000  57.077500  \n",
      "max    15.400000  17.000000  21.900000  58.800000  \n",
      "             year        pIV          pV         pVI        pVII        tIV  \\\n",
      "count    10.00000  10.000000   10.000000   10.000000   10.000000  10.000000   \n",
      "mean   2017.50000  38.409820   74.181967   74.828847   87.508243   7.698057   \n",
      "std       3.02765  17.349130   24.766855   29.638310   25.740071   1.900288   \n",
      "min    2013.00000   9.467114   45.753541   39.239430   55.178108   5.481356   \n",
      "25%    2015.25000  30.582093   52.514644   53.550820   65.884690   6.424142   \n",
      "50%    2017.50000  38.570248   68.902954   67.744493   89.226319   7.476110   \n",
      "75%    2019.75000  44.781489   97.234965   84.510982  104.500741   8.456977   \n",
      "max    2022.00000  75.941404  109.534402  125.219463  132.000163  11.971831   \n",
      "\n",
      "              tV        tVI       tVII     yields  \n",
      "count  10.000000  10.000000  10.000000  10.000000  \n",
      "mean   12.460513  17.239792  18.359773  28.830000  \n",
      "std     1.474451   1.471524   0.925308   3.263281  \n",
      "min    10.120635  15.121019  17.191781  23.500000  \n",
      "25%    11.507619  16.739052  17.691152  26.725000  \n",
      "50%    12.556627  17.185206  18.185795  29.100000  \n",
      "75%    13.038430  17.954670  18.740493  31.175000  \n",
      "max    15.518310  20.212121  20.275000  33.100000  \n",
      "              year        pIV         pV        pVI      pVII       tIV  \\\n",
      "count     4.000000   4.000000   4.000000   4.000000   4.00000  4.000000   \n",
      "mean   1977.500000  65.825000  41.575000  55.575000  42.00000  6.575000   \n",
      "std       1.290994  10.259102   5.534965  17.102315  16.02082  0.665207   \n",
      "min    1976.000000  57.200000  34.700000  31.700000  24.00000  6.000000   \n",
      "25%    1976.750000  57.875000  39.500000  50.300000  30.75000  6.150000   \n",
      "50%    1977.500000  63.600000  41.700000  59.450000  44.00000  6.400000   \n",
      "75%    1978.250000  71.550000  43.775000  64.725000  55.25000  6.825000   \n",
      "max    1979.000000  78.900000  48.200000  71.700000  56.00000  7.500000   \n",
      "\n",
      "              tV        tVI       tVII     yields  \n",
      "count   4.000000   4.000000   4.000000   4.000000  \n",
      "mean   12.625000  16.525000  16.125000  17.700000  \n",
      "std     1.268529   1.965324   0.953502   7.985403  \n",
      "min    11.500000  15.000000  15.300000   6.000000  \n",
      "25%    11.650000  15.075000  15.675000  15.975000  \n",
      "50%    12.400000  15.950000  15.850000  20.700000  \n",
      "75%    13.375000  17.400000  16.300000  22.425000  \n",
      "max    14.200000  19.200000  17.500000  23.400000  \n"
     ]
    }
   ],
   "source": [
    "for i in range(3):\n",
    "    print(data[i].describe())\n"
   ]
  },
  {
   "cell_type": "markdown",
   "metadata": {},
   "source": [
    "### Model 1\n",
    "\n",
    "Our first model is based on the regression provided in the article \"EFFECT OF WEATHER CONDITIONS ON OATS YIELDS\" by T. Michalski, R. Idziak, and L. Menzel. The authors came to conclusion that oat yields depend on precipitation in June, and average temperature in May. They came up with the following regression for aproximating the yields:\n",
    "\n",
    "$$\n",
    "Y = 41.43 - 0.109\\cdot{t_V^2} + 0.764\\cdot{O_{VI}} - 0.00433\\cdot{O_{VI}^2}\n",
    "$$\n",
    "\n",
    "where Y - yields, t - temperature, O - precipitation\n",
    "\n",
    "We based our model on the regression above, adjusting its parameters. We've decided to use the normal distribution, because we can assume that given the same weather conditions, we can expect similar yields, offset by noise coming from other dependencies we are not considering.\n",
    "\n",
    "$$Y\\sim{Normal(a - b\\cdot{t_V^2} + c\\cdot{O_{VI}} - d\\cdot{O_{VI}^2}, \\sigma)}$$\n",
    "$$a\\sim{Normal(\\mu_a, \\sigma_a)}$$\n",
    "$$b\\sim{Normal(\\mu_b, \\sigma_b)}$$\n",
    "$$c\\sim{Normal(\\mu_c, \\sigma_c)}$$\n",
    "$$d\\sim{Normal(\\mu_d, \\sigma_d)}$$\n",
    "\n",
    "#### Priors\n",
    "\n",
    "At the start of prior testing we tried to use the parameters given in the article as means of of our model's parameters, to see how do they relate to our data. We tested it on the data from the article, our actual data, and some old data we found in another article of similar topic. As standard deviations of our parameters we used 50% of the mean values to give them a decent amount of noise.\n",
    "\n",
    "$$\\mu_a = 41.43, \\sigma_a = 20.715$$\n",
    "$$\\mu_b = 0.109, \\sigma_b = 0.0545$$\n",
    "$$\\mu_c = 0.764, \\sigma_c = 0.382$$\n",
    "$$\\mu_d = 0.00433, \\sigma_d = 0.002165$$"
   ]
  },
  {
   "cell_type": "code",
   "execution_count": 23,
   "metadata": {
    "metadata": {}
   },
   "outputs": [
    {
     "name": "stderr",
     "output_type": "stream",
     "text": [
      "INFO:cmdstanpy:found newer exe file, not recompiling\n"
     ]
    }
   ],
   "source": [
    "model_1_prior_1 = CmdStanModel(stan_file='oat_yield_prior_1_1.stan')"
   ]
  },
  {
   "cell_type": "code",
   "execution_count": 47,
   "metadata": {},
   "outputs": [
    {
     "name": "stderr",
     "output_type": "stream",
     "text": [
      "INFO:cmdstanpy:CmdStan start processing\n",
      "chain 1 |\u001b[34m██████████\u001b[0m| 00:00 Sampling completed"
     ]
    },
    {
     "name": "stdout",
     "output_type": "stream",
     "text": [
      "                                                                                "
     ]
    },
    {
     "name": "stderr",
     "output_type": "stream",
     "text": [
      "\n",
      "INFO:cmdstanpy:CmdStan done processing.\n"
     ]
    },
    {
     "name": "stdout",
     "output_type": "stream",
     "text": [
      "\n"
     ]
    },
    {
     "data": {
      "image/png": "[encoded data removed]",
      "text/plain": [
       "<Figure size 432x288 with 1 Axes>"
      ]
     },
     "metadata": {
      "needs_background": "light"
     },
     "output_type": "display_data"
    },
    {
     "name": "stderr",
     "output_type": "stream",
     "text": [
      "INFO:cmdstanpy:CmdStan start processing\n",
      "chain 1 |\u001b[34m██████████\u001b[0m| 00:00 Sampling completed"
     ]
    },
    {
     "name": "stdout",
     "output_type": "stream",
     "text": [
      "                                                                                "
     ]
    },
    {
     "name": "stderr",
     "output_type": "stream",
     "text": [
      "\n",
      "INFO:cmdstanpy:CmdStan done processing.\n"
     ]
    },
    {
     "name": "stdout",
     "output_type": "stream",
     "text": [
      "\n"
     ]
    },
    {
     "data": {
      "image/png": "[encoded data removed]",
      "text/plain": [
       "<Figure size 432x288 with 1 Axes>"
      ]
     },
     "metadata": {
      "needs_background": "light"
     },
     "output_type": "display_data"
    },
    {
     "name": "stderr",
     "output_type": "stream",
     "text": [
      "INFO:cmdstanpy:CmdStan start processing\n",
      "chain 1 |\u001b[34m██████████\u001b[0m| 00:00 Sampling completed"
     ]
    },
    {
     "name": "stdout",
     "output_type": "stream",
     "text": [
      "                                                                                "
     ]
    },
    {
     "name": "stderr",
     "output_type": "stream",
     "text": [
      "\n",
      "INFO:cmdstanpy:CmdStan done processing.\n"
     ]
    },
    {
     "name": "stdout",
     "output_type": "stream",
     "text": [
      "\n"
     ]
    },
    {
     "data": {
      "image/png": "[encoded data removed]",
      "text/plain": [
       "<Figure size 432x288 with 1 Axes>"
      ]
     },
     "metadata": {
      "needs_background": "light"
     },
     "output_type": "display_data"
    }
   ],
   "source": [
    "R = 1000\n",
    "N= []\n",
    "for i,d in enumerate(data):\n",
    "    N.append(len(d))\n",
    "    sim = model_1_prior_1.sample(\n",
    "        data=dict(N=N[i], \n",
    "        precipitation_june=d[\"pVI\"],\n",
    "        average_temperature_may=d[\"tV\"]),\n",
    "        iter_sampling=R,\n",
    "        iter_warmup=1,\n",
    "        chains=1,\n",
    "        fixed_param=True,\n",
    "        seed=42,\n",
    "        refresh=R\n",
    "    )\n",
    "\n",
    "    yields_pred_prior = sim.stan_variable(\"yields\")\n",
    "    yields_pred_prior_means = np.mean(yields_pred_prior, axis=0)\n",
    "\n",
    "    plt.bar(list(d[\"year\"]), yields_pred_prior_means, alpha=0.5)\n",
    "    plt.bar(list(d[\"year\"]), list(d[\"yields\"]), alpha=0.5)\n",
    "    plt.legend([f\"prior predictions\", f\"{data_labels[i]}\"], loc='lower left')\n",
    "    plt.xlabel('year')\n",
    "    plt.ylabel('Yields [dt/ha]') \n",
    "    plt.title(f'Comparison of {data_labels[i]} and prior predictions') \n",
    "    plt.show()"
   ]
  },
  {
   "cell_type": "markdown",
   "metadata": {},
   "source": [
    "As we can see the prior model predicts the data from the article very well (which is logical, bacause it uses the parameters from the article). It greatly underestimates yields for our data though, which is also logical, because authors of the article kept the plants in perfect conditions, leading to much greater yields than we can expect from an average farm.\n",
    "\n",
    "We noticed that that the predictions seem to follow our data very well, they are just offset by a large margin. We decided to reduce the value of the intercept (parameter a) to match our data, and to keep other parameters as they are.\n",
    "\n",
    "The final prior parameters look like this:\n",
    "\n",
    "$$\\mu_a = 16, \\sigma_a = 8$$\n",
    "$$\\mu_b = 0.109, \\sigma_b = 0.0545$$\n",
    "$$\\mu_c = 0.764, \\sigma_c = 0.382$$\n",
    "$$\\mu_d = 0.00433, \\sigma_d = 0.002165$$"
   ]
  },
  {
   "cell_type": "code",
   "execution_count": 40,
   "metadata": {},
   "outputs": [
    {
     "name": "stderr",
     "output_type": "stream",
     "text": [
      "INFO:cmdstanpy:compiling stan file /root/Data-Analitics-Project/project/project/oat_yield_prior_1_2.stan to exe file /root/Data-Analitics-Project/project/project/oat_yield_prior_1_2\n",
      "INFO:cmdstanpy:compiled model executable: /root/Data-Analitics-Project/project/project/oat_yield_prior_1_2\n"
     ]
    }
   ],
   "source": [
    "model_1_prior_1 = CmdStanModel(stan_file='oat_yield_prior_1_2.stan')"
   ]
  },
  {
   "cell_type": "code",
   "execution_count": 48,
   "metadata": {},
   "outputs": [
    {
     "name": "stderr",
     "output_type": "stream",
     "text": [
      "INFO:cmdstanpy:CmdStan start processing\n",
      "chain 1 |\u001b[34m██████████\u001b[0m| 00:00 Sampling completed"
     ]
    },
    {
     "name": "stdout",
     "output_type": "stream",
     "text": [
      "                                                                                "
     ]
    },
    {
     "name": "stderr",
     "output_type": "stream",
     "text": [
      "\n",
      "INFO:cmdstanpy:CmdStan done processing.\n"
     ]
    },
    {
     "name": "stdout",
     "output_type": "stream",
     "text": [
      "\n"
     ]
    },
    {
     "data": {
      "image/png": "[encoded data removed]",
      "text/plain": [
       "<Figure size 432x288 with 1 Axes>"
      ]
     },
     "metadata": {
      "needs_background": "light"
     },
     "output_type": "display_data"
    }
   ],
   "source": [
    "R = 1000\n",
    "d = data[1]\n",
    "sim = model_1_prior_1.sample(\n",
    "    data=dict(N=len(d), \n",
    "    precipitation_june=d[\"pVI\"],\n",
    "    average_temperature_may=d[\"tV\"]),\n",
    "    iter_sampling=R,\n",
    "    iter_warmup=1,\n",
    "    chains=1,\n",
    "    fixed_param=True,\n",
    "    seed=42,\n",
    "    refresh=R\n",
    ")\n",
    "\n",
    "yields_pred_prior = sim.stan_variable(\"yields\")\n",
    "yields_pred_prior_means = np.mean(yields_pred_prior, axis=0)\n",
    "\n",
    "plt.bar(list(d[\"year\"]), yields_pred_prior_means, alpha=0.5)\n",
    "plt.bar(list(d[\"year\"]), list(d[\"yields\"]), alpha=0.5)\n",
    "plt.legend([\"prior predictions\", f\"{data_labels[1]}\"], loc='lower left')\n",
    "plt.xlabel('year')\n",
    "plt.ylabel('Yields [dt/ha]') \n",
    "plt.title(f'Comparison of {data_labels[1]} and prior predictions') \n",
    "plt.show()"
   ]
  },
  {
   "cell_type": "markdown",
   "metadata": {},
   "source": [
    "The prior predictions turned out to be surprisingly accurate, given we used knowledge worked out in 1999 on modern data averaged for the whole country."
   ]
  },
  {
   "cell_type": "markdown",
   "metadata": {},
   "source": [
    "#### Posterior"
   ]
  },
  {
   "cell_type": "code",
   "execution_count": 42,
   "metadata": {
    "metadata": {}
   },
   "outputs": [
    {
     "name": "stderr",
     "output_type": "stream",
     "text": [
      "INFO:cmdstanpy:compiling stan file /root/Data-Analitics-Project/project/project/oat_yield_posterior_1.stan to exe file /root/Data-Analitics-Project/project/project/oat_yield_posterior_1\n"
     ]
    },
    {
     "name": "stderr",
     "output_type": "stream",
     "text": [
      "INFO:cmdstanpy:compiled model executable: /root/Data-Analitics-Project/project/project/oat_yield_posterior_1\n"
     ]
    }
   ],
   "source": [
    "model_posterior = CmdStanModel(stan_file='oat_yield_posterior_1.stan')"
   ]
  },
  {
   "cell_type": "code",
   "execution_count": 49,
   "metadata": {},
   "outputs": [
    {
     "name": "stderr",
     "output_type": "stream",
     "text": [
      "INFO:cmdstanpy:CmdStan start processing\n",
      "chain 1 |\u001b[33m          \u001b[0m| 00:00 Status\n",
      "\u001b[A\n",
      "\n",
      "\u001b[A\u001b[A\n",
      "chain 1 |\u001b[33m█▎        \u001b[0m| 00:00 Iteration:  100 / 2000 [  5%]  (Warmup)\n",
      "\n",
      "chain 1 |\u001b[33m██▎       \u001b[0m| 00:00 Iteration:  300 / 2000 [ 15%]  (Warmup)\n",
      "\u001b[A\n",
      "\n",
      "chain 1 |\u001b[33m██▋       \u001b[0m| 00:00 Iteration:  400 / 2000 [ 20%]  (Warmup)\n",
      "\u001b[A\n",
      "\n",
      "chain 1 |\u001b[33m███▋      \u001b[0m| 00:00 Iteration:  600 / 2000 [ 30%]  (Warmup)\n",
      "chain 1 |\u001b[33m████▌     \u001b[0m| 00:00 Iteration:  800 / 2000 [ 40%]  (Warmup)\n",
      "\n",
      "\u001b[A\u001b[A\n",
      "chain 1 |\u001b[34m█████▉    \u001b[0m| 00:00 Iteration: 1001 / 2000 [ 50%]  (Sampling)\n",
      "\n",
      "chain 1 |\u001b[34m██████▊   \u001b[0m| 00:01 Iteration: 1200 / 2000 [ 60%]  (Sampling)\n",
      "\u001b[A\n",
      "\n",
      "\u001b[A\u001b[A\n",
      "chain 1 |\u001b[34m███████▋  \u001b[0m| 00:01 Iteration: 1400 / 2000 [ 70%]  (Sampling)\n",
      "\n",
      "chain 1 |\u001b[34m████████▋ \u001b[0m| 00:01 Iteration: 1600 / 2000 [ 80%]  (Sampling)\n",
      "\u001b[A\n",
      "\n",
      "chain 1 |\u001b[34m█████████▌\u001b[0m| 00:01 Iteration: 1800 / 2000 [ 90%]  (Sampling)\n",
      "\n",
      "\u001b[A\u001b[A\n",
      "\n",
      "chain 1 |\u001b[34m██████████\u001b[0m| 00:01 Sampling completed                       \n",
      "chain 2 |\u001b[34m██████████\u001b[0m| 00:01 Sampling completed                       \n",
      "chain 3 |\u001b[34m██████████\u001b[0m| 00:01 Sampling completed                       \n",
      "chain 4 |\u001b[34m██████████\u001b[0m| 00:01 Sampling completed                       "
     ]
    },
    {
     "name": "stdout",
     "output_type": "stream",
     "text": [
      "                                                                                                                                                                                                                                                                                                                                "
     ]
    },
    {
     "name": "stderr",
     "output_type": "stream",
     "text": [
      "\n",
      "INFO:cmdstanpy:CmdStan done processing.\n"
     ]
    },
    {
     "name": "stdout",
     "output_type": "stream",
     "text": [
      "\n",
      "[-0.78151408  0.00500475  1.84694822  2.15593085  2.45482193 -0.92741445\n",
      "  0.32394686 -0.32480355 -2.08820376 -2.88987488]\n"
     ]
    },
    {
     "data": {
      "image/png": "[encoded data removed]",
      "text/plain": [
       "<Figure size 432x288 with 1 Axes>"
      ]
     },
     "metadata": {
      "needs_background": "light"
     },
     "output_type": "display_data"
    }
   ],
   "source": [
    "d = data[1]\n",
    "fit = model_posterior.sample(data=dict(N=len(d), precipitation_june=d[\"pVI\"], average_temperature_may=d[\"tV\"], yields=d[\"yields\"]), seed=42)\n",
    "\n",
    "yields_pred_posterior = fit.stan_variable(\"yields_pred\")\n",
    "yields_pred_posterior_means = np.mean(yields_pred_posterior, axis=0)\n",
    "\n",
    "print(yields_pred_posterior_means-list(d[\"yields\"]))\n",
    "plt.bar(list(d[\"year\"]), yields_pred_posterior_means, alpha=0.5)\n",
    "plt.bar(list(d[\"year\"]), list(d[\"yields\"]), alpha=0.5)\n",
    "plt.legend([\"posterior predictions\", f\"{data_labels[1]}\"], loc='lower left')\n",
    "plt.xlabel('years')\n",
    "plt.ylabel('Yields [dt/ha]') \n",
    "plt.title(f'Comparison of {data_labels[1]} and posterior predictions') \n",
    "plt.show()"
   ]
  },
  {
   "cell_type": "code",
   "execution_count": 51,
   "metadata": {},
   "outputs": [
    {
     "name": "stdout",
     "output_type": "stream",
     "text": [
      "Fitted parameters\n",
      "a2: 16.610082740750002\n",
      "b2: 0.0824995148025\n",
      "c2: 0.63501528025\n",
      "d2: 0.00349672510225\n"
     ]
    }
   ],
   "source": [
    "print(\"Fitted parameters\")\n",
    "\n",
    "a = [0] * len(data)\n",
    "b = [0] * len(data)\n",
    "c = [0] * len(data)\n",
    "d = [0] * len(data)\n",
    "a[i] = np.mean(fit.stan_variable(\"a\"))\n",
    "b[i] = np.mean(fit.stan_variable(\"b\"))\n",
    "c[i] = np.mean(fit.stan_variable(\"c\"))\n",
    "d[i] = np.mean(fit.stan_variable(\"d\"))\n",
    "print(f\"a{i}: \" + str(a[i]))\n",
    "print(f\"b{i}: \" + str(b[i]))\n",
    "print(f\"c{i}: \" + str(c[i]))\n",
    "print(f\"d{i}: \" + str(d[i]))"
   ]
  },
  {
   "cell_type": "markdown",
   "metadata": {},
   "source": []
  },
  {
   "cell_type": "markdown",
   "metadata": {},
   "source": [
    "### Model 2\n",
    "\n",
    "In the second model we tried to include weather data from every single relevant month as parameters. TODO\n",
    "\n",
    "#### Priors"
   ]
  },
  {
   "cell_type": "code",
   "execution_count": null,
   "metadata": {},
   "outputs": [
    {
     "name": "stderr",
     "output_type": "stream",
     "text": [
      "INFO:cmdstanpy:found newer exe file, not recompiling\n"
     ]
    }
   ],
   "source": [
    "model_prior2 = CmdStanModel(stan_file='oat_yield_prior_2.stan')"
   ]
  },
  {
   "cell_type": "code",
   "execution_count": null,
   "metadata": {},
   "outputs": [
    {
     "name": "stderr",
     "output_type": "stream",
     "text": [
      "INFO:cmdstanpy:CmdStan start processing\n"
     ]
    },
    {
     "name": "stderr",
     "output_type": "stream",
     "text": [
      "chain 1 |\u001b[34m██████████\u001b[0m| 00:00 Sampling completed"
     ]
    },
    {
     "name": "stdout",
     "output_type": "stream",
     "text": [
      "                                                                                "
     ]
    },
    {
     "name": "stderr",
     "output_type": "stream",
     "text": [
      "\n",
      "INFO:cmdstanpy:CmdStan done processing.\n",
      "INFO:cmdstanpy:CmdStan start processing\n"
     ]
    },
    {
     "name": "stdout",
     "output_type": "stream",
     "text": [
      "\n"
     ]
    },
    {
     "name": "stderr",
     "output_type": "stream",
     "text": [
      "chain 1 |\u001b[34m██████████\u001b[0m| 00:00 Sampling completed"
     ]
    },
    {
     "name": "stdout",
     "output_type": "stream",
     "text": [
      "                                                                                "
     ]
    },
    {
     "name": "stderr",
     "output_type": "stream",
     "text": [
      "\n",
      "INFO:cmdstanpy:CmdStan done processing.\n",
      "INFO:cmdstanpy:CmdStan start processing\n"
     ]
    },
    {
     "name": "stdout",
     "output_type": "stream",
     "text": [
      "\n"
     ]
    },
    {
     "name": "stderr",
     "output_type": "stream",
     "text": [
      "chain 1 |\u001b[34m██████████\u001b[0m| 00:00 Sampling completed"
     ]
    },
    {
     "name": "stdout",
     "output_type": "stream",
     "text": [
      "                                                                                "
     ]
    },
    {
     "name": "stderr",
     "output_type": "stream",
     "text": [
      "\n",
      "INFO:cmdstanpy:CmdStan done processing.\n",
      "INFO:cmdstanpy:CmdStan start processing\n"
     ]
    },
    {
     "name": "stdout",
     "output_type": "stream",
     "text": [
      "\n"
     ]
    },
    {
     "name": "stderr",
     "output_type": "stream",
     "text": [
      "chain 1 |\u001b[34m██████████\u001b[0m| 00:00 Sampling completed\n"
     ]
    },
    {
     "name": "stdout",
     "output_type": "stream",
     "text": [
      "                                                                                "
     ]
    },
    {
     "name": "stderr",
     "output_type": "stream",
     "text": [
      "INFO:cmdstanpy:CmdStan done processing.\n"
     ]
    },
    {
     "name": "stdout",
     "output_type": "stream",
     "text": [
      "\n"
     ]
    }
   ],
   "source": [
    "R = 1000\n",
    "sims2 = []\n",
    "N = []\n",
    "for i,d in enumerate(data):\n",
    "    N.append(len(d))\n",
    "    dict = {\n",
    "        \"N\": N[i],\n",
    "        \"precipitation_april\": d[\"pIV\"],\n",
    "        \"precipitation_may\": d[\"pV\"],\n",
    "        \"precipitation_june\": d[\"pVI\"],\n",
    "        \"precipitation_july\": d[\"pVII\"],\n",
    "        \"average_temperature_april\": d[\"tIV\"],\n",
    "        \"average_temperature_may\": d[\"tV\"],\n",
    "        \"average_temperature_june\": d[\"tVI\"],\n",
    "        \"average_temperature_july\": d[\"tVII\"]\n",
    "    }\n",
    "    sim=model_prior2.sample( data=dict,\n",
    "                        iter_sampling=R,\n",
    "                        iter_warmup=1,\n",
    "                        chains=1,\n",
    "                        fixed_param=True,\n",
    "                        seed=42,refresh=R)\n",
    "    \n",
    "    yields_pred_prior = sim.stan_variable(\"yields\")\n",
    "    yields_pred_prior_means = np.mean(yields_pred_prior, axis=0)\n",
    "\n",
    "\n",
    "   \n",
    "    sims2.append(sim)\n"
   ]
  },
  {
   "cell_type": "code",
   "execution_count": null,
   "metadata": {},
   "outputs": [
    {
     "data": {
      "image/png": "[encoded data removed]",
      "text/plain": [
       "<Figure size 432x288 with 1 Axes>"
      ]
     },
     "metadata": {
      "needs_background": "light"
     },
     "output_type": "display_data"
    },
    {
     "data": {
      "image/png": "[encoded data removed]",
      "text/plain": [
       "<Figure size 432x288 with 1 Axes>"
      ]
     },
     "metadata": {
      "needs_background": "light"
     },
     "output_type": "display_data"
    },
    {
     "data": {
      "image/png": "[encoded data removed]",
      "text/plain": [
       "<Figure size 432x288 with 1 Axes>"
      ]
     },
     "metadata": {
      "needs_background": "light"
     },
     "output_type": "display_data"
    },
    {
     "data": {
      "image/png": "[encoded data removed]",
      "text/plain": [
       "<Figure size 432x288 with 1 Axes>"
      ]
     },
     "metadata": {
      "needs_background": "light"
     },
     "output_type": "display_data"
    }
   ],
   "source": [
    "for i,d in enumerate(data):\n",
    "    yields_pred_prior = sims2[i].stan_variable(\"yields\")\n",
    "    yields_pred_prior_means = np.mean(yields_pred_prior, axis=0)\n",
    "\n",
    "    plt.bar(list(d[\"year\"]), yields_pred_prior_means, alpha=0.5)\n",
    "    plt.bar(list(d[\"year\"]), list(d[\"yields\"]), alpha=0.5)\n",
    "    plt.legend([f\"prior predictions {i}\", f\"data {i}\"])\n",
    "    plt.xlabel('years')\n",
    "    plt.ylabel('Value') \n",
    "    plt.title(f'Comparison of data {i} and prior predictions') \n",
    "    plt.show()"
   ]
  },
  {
   "cell_type": "markdown",
   "metadata": {},
   "source": [
    "#### Posterior"
   ]
  },
  {
   "cell_type": "code",
   "execution_count": null,
   "metadata": {},
   "outputs": [
    {
     "name": "stderr",
     "output_type": "stream",
     "text": [
      "INFO:cmdstanpy:found newer exe file, not recompiling\n"
     ]
    }
   ],
   "source": [
    "model_posterior2 = CmdStanModel(stan_file='oat_yield_posterior_2.stan')\n",
    "\n"
   ]
  },
  {
   "cell_type": "code",
   "execution_count": null,
   "metadata": {},
   "outputs": [
    {
     "name": "stderr",
     "output_type": "stream",
     "text": [
      "INFO:cmdstanpy:CmdStan start processing\n",
      "chain 1 |\u001b[33m          \u001b[0m| 00:00 Status\n",
      "\u001b[A\n",
      "\n",
      "chain 1 |\u001b[33m▉         \u001b[0m| 00:00 Iteration:    1 / 2000 [  0%]  (Warmup)\n",
      "chain 1 |\u001b[33m█▊        \u001b[0m| 00:00 Iteration:  200 / 2000 [ 10%]  (Warmup)\n",
      "\n",
      "chain 1 |\u001b[33m██▋       \u001b[0m| 00:01 Iteration:  400 / 2000 [ 20%]  (Warmup)\n",
      "\u001b[A\n",
      "\n",
      "chain 1 |\u001b[33m███▋      \u001b[0m| 00:04 Iteration:  600 / 2000 [ 30%]  (Warmup)\n",
      "\n",
      "\u001b[A\u001b[A\n",
      "chain 1 |\u001b[33m████      \u001b[0m| 00:05 Iteration:  700 / 2000 [ 35%]  (Warmup)\n",
      "\n",
      "\u001b[A\u001b[A\n",
      "chain 1 |\u001b[33m████▌     \u001b[0m| 00:06 Iteration:  800 / 2000 [ 40%]  (Warmup)\n",
      "\n",
      "\u001b[A\u001b[A\n",
      "chain 1 |\u001b[33m█████     \u001b[0m| 00:07 Iteration:  900 / 2000 [ 45%]  (Warmup)\n",
      "\n",
      "\u001b[A\u001b[A\n",
      "chain 1 |\u001b[34m█████▉    \u001b[0m| 00:09 Iteration: 1001 / 2000 [ 50%]  (Sampling)\n",
      "\n",
      "chain 1 |\u001b[34m██████▎   \u001b[0m| 00:10 Iteration: 1100 / 2000 [ 55%]  (Sampling)\n",
      "\n",
      "\u001b[A\u001b[A\n",
      "\u001b[A\n",
      "\n",
      "chain 1 |\u001b[34m██████▊   \u001b[0m| 00:12 Iteration: 1200 / 2000 [ 60%]  (Sampling)\n",
      "chain 1 |\u001b[34m███████▎  \u001b[0m| 00:13 Iteration: 1300 / 2000 [ 65%]  (Sampling)\n",
      "\n",
      "\u001b[A\u001b[A\n",
      "chain 1 |\u001b[34m███████▋  \u001b[0m| 00:14 Iteration: 1400 / 2000 [ 70%]  (Sampling)\n",
      "\n",
      "\u001b[A\u001b[A\n",
      "\u001b[A\n",
      "\n",
      "chain 1 |\u001b[34m████████▏ \u001b[0m| 00:16 Iteration: 1500 / 2000 [ 75%]  (Sampling)\n",
      "\u001b[A\n",
      "\n",
      "chain 1 |\u001b[34m████████▋ \u001b[0m| 00:17 Iteration: 1600 / 2000 [ 80%]  (Sampling)\n",
      "\u001b[A\n",
      "\n",
      "chain 1 |\u001b[34m█████████ \u001b[0m| 00:18 Iteration: 1700 / 2000 [ 85%]  (Sampling)\n",
      "chain 1 |\u001b[34m█████████▌\u001b[0m| 00:20 Iteration: 1800 / 2000 [ 90%]  (Sampling)\n",
      "\n",
      "\u001b[A\u001b[A\n",
      "\u001b[A\n",
      "\n",
      "chain 1 |\u001b[34m██████████\u001b[0m| 00:21 Iteration: 1900 / 2000 [ 95%]  (Sampling)\n",
      "\u001b[A\n",
      "\n",
      "\u001b[A\u001b[A\n",
      "chain 1 |\u001b[34m██████████\u001b[0m| 00:23 Sampling completed                       \n",
      "chain 2 |\u001b[34m██████████\u001b[0m| 00:23 Sampling completed                       \n",
      "chain 3 |\u001b[34m██████████\u001b[0m| 00:23 Sampling completed                       \n",
      "chain 4 |\u001b[34m██████████\u001b[0m| 00:23 Sampling completed                       "
     ]
    },
    {
     "name": "stdout",
     "output_type": "stream",
     "text": [
      "                                                                                                                                                                                                                                                                                                                                "
     ]
    },
    {
     "name": "stderr",
     "output_type": "stream",
     "text": [
      "\n",
      "INFO:cmdstanpy:CmdStan done processing.\n"
     ]
    },
    {
     "name": "stdout",
     "output_type": "stream",
     "text": [
      "\n"
     ]
    },
    {
     "name": "stderr",
     "output_type": "stream",
     "text": [
      "INFO:cmdstanpy:CmdStan start processing\n",
      "chain 1 |\u001b[33m          \u001b[0m| 00:00 Status\n",
      "\u001b[A\n",
      "\n",
      "chain 1 |\u001b[33m▉         \u001b[0m| 00:00 Iteration:    1 / 2000 [  0%]  (Warmup)\n",
      "\u001b[A\n",
      "\n",
      "chain 1 |\u001b[33m██▎       \u001b[0m| 00:02 Iteration:  300 / 2000 [ 15%]  (Warmup)\n",
      "\u001b[A\n",
      "\n",
      "chain 1 |\u001b[33m███▏      \u001b[0m| 00:05 Iteration:  500 / 2000 [ 25%]  (Warmup)\n",
      "\u001b[A\n",
      "\n",
      "chain 1 |\u001b[33m███▋      \u001b[0m| 00:06 Iteration:  600 / 2000 [ 30%]  (Warmup)\n",
      "chain 1 |\u001b[33m████      \u001b[0m| 00:07 Iteration:  700 / 2000 [ 35%]  (Warmup)\n",
      "\n",
      "\u001b[A\u001b[A\n",
      "chain 1 |\u001b[33m████▌     \u001b[0m| 00:08 Iteration:  800 / 2000 [ 40%]  (Warmup)\n",
      "\n",
      "\u001b[A\u001b[A\n",
      "chain 1 |\u001b[33m█████     \u001b[0m| 00:09 Iteration:  900 / 2000 [ 45%]  (Warmup)\n",
      "\n",
      "\u001b[A\u001b[A\n",
      "chain 1 |\u001b[34m█████▉    \u001b[0m| 00:11 Iteration: 1001 / 2000 [ 50%]  (Sampling)\n",
      "\n",
      "\u001b[A\u001b[A\n",
      "chain 1 |\u001b[34m██████▎   \u001b[0m| 00:12 Iteration: 1100 / 2000 [ 55%]  (Sampling)\n",
      "\n",
      "\u001b[A\u001b[A\n",
      "chain 1 |\u001b[34m██████▊   \u001b[0m| 00:13 Iteration: 1200 / 2000 [ 60%]  (Sampling)\n",
      "\n",
      "\u001b[A\u001b[A\n",
      "chain 1 |\u001b[34m███████▎  \u001b[0m| 00:14 Iteration: 1300 / 2000 [ 65%]  (Sampling)\n",
      "\n",
      "chain 1 |\u001b[34m███████▋  \u001b[0m| 00:16 Iteration: 1400 / 2000 [ 70%]  (Sampling)\n",
      "\u001b[A\n",
      "\n",
      "chain 1 |\u001b[34m████████▏ \u001b[0m| 00:17 Iteration: 1500 / 2000 [ 75%]  (Sampling)\n",
      "\u001b[A\n",
      "\n",
      "chain 1 |\u001b[34m████████▋ \u001b[0m| 00:18 Iteration: 1600 / 2000 [ 80%]  (Sampling)\n",
      "\u001b[A\n",
      "\n",
      "chain 1 |\u001b[34m█████████ \u001b[0m| 00:20 Iteration: 1700 / 2000 [ 85%]  (Sampling)\n",
      "\u001b[A\n",
      "\n",
      "chain 1 |\u001b[34m█████████▌\u001b[0m| 00:21 Iteration: 1800 / 2000 [ 90%]  (Sampling)\n",
      "\u001b[A\n",
      "\n",
      "chain 1 |\u001b[34m██████████\u001b[0m| 00:22 Iteration: 1900 / 2000 [ 95%]  (Sampling)\n",
      "chain 1 |\u001b[34m██████████\u001b[0m| 00:24 Sampling completed                       \n",
      "chain 2 |\u001b[34m██████████\u001b[0m| 00:24 Sampling completed                       \n",
      "chain 3 |\u001b[34m██████████\u001b[0m| 00:24 Sampling completed                       \n",
      "chain 4 |\u001b[34m██████████\u001b[0m| 00:24 Sampling completed                       "
     ]
    },
    {
     "name": "stdout",
     "output_type": "stream",
     "text": [
      "                                                                                                                                                                                                                                                                                                                                "
     ]
    },
    {
     "name": "stderr",
     "output_type": "stream",
     "text": [
      "\n",
      "INFO:cmdstanpy:CmdStan done processing.\n",
      "INFO:cmdstanpy:CmdStan start processing\n"
     ]
    },
    {
     "name": "stdout",
     "output_type": "stream",
     "text": [
      "\n"
     ]
    },
    {
     "name": "stderr",
     "output_type": "stream",
     "text": [
      "chain 1 |\u001b[33m          \u001b[0m| 00:00 Status\n",
      "\u001b[A\n",
      "\n",
      "\u001b[A\u001b[A\n",
      "\n",
      "chain 1 |\u001b[33m▉         \u001b[0m| 00:00 Iteration:    1 / 2000 [  0%]  (Warmup)\n",
      "chain 1 |\u001b[33m█▎        \u001b[0m| 00:01 Iteration:  100 / 2000 [  5%]  (Warmup)\n",
      "\u001b[A\n",
      "\n",
      "chain 1 |\u001b[33m█▊        \u001b[0m| 00:02 Iteration:  200 / 2000 [ 10%]  (Warmup)\n",
      "chain 1 |\u001b[33m██▎       \u001b[0m| 00:03 Iteration:  300 / 2000 [ 15%]  (Warmup)\n",
      "\n",
      "\u001b[A\u001b[A\n",
      "chain 1 |\u001b[33m██▋       \u001b[0m| 00:03 Iteration:  400 / 2000 [ 20%]  (Warmup)\n",
      "\n",
      "\u001b[A\u001b[A\n",
      "chain 1 |\u001b[33m███▏      \u001b[0m| 00:04 Iteration:  500 / 2000 [ 25%]  (Warmup)\n",
      "\n",
      "\u001b[A\u001b[A\n",
      "chain 1 |\u001b[33m███▋      \u001b[0m| 00:05 Iteration:  600 / 2000 [ 30%]  (Warmup)\n",
      "\n",
      "\u001b[A\u001b[A\n",
      "chain 1 |\u001b[33m████      \u001b[0m| 00:06 Iteration:  700 / 2000 [ 35%]  (Warmup)\n",
      "\n",
      "\u001b[A\u001b[A\n",
      "chain 1 |\u001b[33m████▌     \u001b[0m| 00:07 Iteration:  800 / 2000 [ 40%]  (Warmup)\n",
      "\n",
      "\u001b[A\u001b[A\n",
      "chain 1 |\u001b[33m█████     \u001b[0m| 00:08 Iteration:  900 / 2000 [ 45%]  (Warmup)\n",
      "\n",
      "\u001b[A\u001b[A\n",
      "chain 1 |\u001b[34m█████▉    \u001b[0m| 00:09 Iteration: 1001 / 2000 [ 50%]  (Sampling)\n",
      "\n",
      "\u001b[A\u001b[A\n",
      "chain 1 |\u001b[34m██████▎   \u001b[0m| 00:10 Iteration: 1100 / 2000 [ 55%]  (Sampling)\n",
      "\n",
      "\u001b[A\u001b[A\n",
      "chain 1 |\u001b[34m██████▊   \u001b[0m| 00:11 Iteration: 1200 / 2000 [ 60%]  (Sampling)\n",
      "\n",
      "\u001b[A\u001b[A\n",
      "chain 1 |\u001b[34m███████▎  \u001b[0m| 00:12 Iteration: 1300 / 2000 [ 65%]  (Sampling)\n",
      "\n",
      "\u001b[A\u001b[A\n",
      "chain 1 |\u001b[34m███████▋  \u001b[0m| 00:13 Iteration: 1400 / 2000 [ 70%]  (Sampling)\n",
      "\n",
      "\u001b[A\u001b[A\n",
      "chain 1 |\u001b[34m████████▏ \u001b[0m| 00:14 Iteration: 1500 / 2000 [ 75%]  (Sampling)\n",
      "\n",
      "\u001b[A\u001b[A\n",
      "chain 1 |\u001b[34m████████▋ \u001b[0m| 00:15 Iteration: 1600 / 2000 [ 80%]  (Sampling)\n",
      "\n",
      "\u001b[A\u001b[A\n",
      "chain 1 |\u001b[34m█████████ \u001b[0m| 00:16 Iteration: 1700 / 2000 [ 85%]  (Sampling)\n",
      "\n",
      "\u001b[A\u001b[A\n",
      "chain 1 |\u001b[34m█████████▌\u001b[0m| 00:17 Iteration: 1800 / 2000 [ 90%]  (Sampling)\n",
      "\n",
      "\u001b[A\u001b[A\n",
      "chain 1 |\u001b[34m██████████\u001b[0m| 00:18 Sampling completed                       \n",
      "chain 2 |\u001b[34m██████████\u001b[0m| 00:18 Sampling completed                       \n",
      "chain 3 |\u001b[34m██████████\u001b[0m| 00:18 Sampling completed                       \n",
      "chain 4 |\u001b[34m██████████\u001b[0m| 00:18 Sampling completed                       "
     ]
    },
    {
     "name": "stdout",
     "output_type": "stream",
     "text": [
      "                                                                                                                                                                                                                                                                                                                                "
     ]
    },
    {
     "name": "stderr",
     "output_type": "stream",
     "text": [
      "\n",
      "INFO:cmdstanpy:CmdStan done processing.\n",
      "INFO:cmdstanpy:CmdStan start processing\n"
     ]
    },
    {
     "name": "stdout",
     "output_type": "stream",
     "text": [
      "\n"
     ]
    },
    {
     "name": "stderr",
     "output_type": "stream",
     "text": [
      "chain 1 |\u001b[33m          \u001b[0m| 00:00 Status\n",
      "\u001b[A\n",
      "\n",
      "chain 1 |\u001b[33m▉         \u001b[0m| 00:00 Iteration:    1 / 2000 [  0%]  (Warmup)\n",
      "\u001b[A\n",
      "\n",
      "\u001b[A\u001b[A\n",
      "chain 1 |\u001b[33m█▊        \u001b[0m| 00:00 Iteration:  200 / 2000 [ 10%]  (Warmup)\n",
      "\n",
      "chain 1 |\u001b[33m██▋       \u001b[0m| 00:03 Iteration:  400 / 2000 [ 20%]  (Warmup)\n",
      "chain 1 |\u001b[33m███▏      \u001b[0m| 00:04 Iteration:  500 / 2000 [ 25%]  (Warmup)\n",
      "\n",
      "chain 1 |\u001b[33m███▋      \u001b[0m| 00:06 Iteration:  600 / 2000 [ 30%]  (Warmup)\n",
      "\n",
      "chain 1 |\u001b[33m████      \u001b[0m| 00:07 Iteration:  700 / 2000 [ 35%]  (Warmup)\n",
      "chain 1 |\u001b[33m████▌     \u001b[0m| 00:09 Iteration:  800 / 2000 [ 40%]  (Warmup)\n",
      "\n",
      "\u001b[A\u001b[A\n",
      "chain 1 |\u001b[33m█████     \u001b[0m| 00:11 Iteration:  900 / 2000 [ 45%]  (Warmup)\n",
      "\n",
      "\u001b[A\u001b[A\n",
      "chain 1 |\u001b[34m█████▉    \u001b[0m| 00:12 Iteration: 1001 / 2000 [ 50%]  (Sampling)\n",
      "\u001b[A\n",
      "\n",
      "chain 1 |\u001b[34m██████▎   \u001b[0m| 00:15 Iteration: 1100 / 2000 [ 55%]  (Sampling)\n",
      "chain 1 |\u001b[34m██████▊   \u001b[0m| 00:17 Iteration: 1200 / 2000 [ 60%]  (Sampling)\n",
      "\n",
      "\u001b[A\u001b[A\n",
      "chain 1 |\u001b[34m███████▎  \u001b[0m| 00:19 Iteration: 1300 / 2000 [ 65%]  (Sampling)\n",
      "\n",
      "\u001b[A\u001b[A\n",
      "chain 1 |\u001b[34m███████▋  \u001b[0m| 00:21 Iteration: 1400 / 2000 [ 70%]  (Sampling)\n",
      "\u001b[A\n",
      "\n",
      "chain 1 |\u001b[34m████████▏ \u001b[0m| 00:23 Iteration: 1500 / 2000 [ 75%]  (Sampling)\n",
      "chain 1 |\u001b[34m████████▋ \u001b[0m| 00:25 Iteration: 1600 / 2000 [ 80%]  (Sampling)\n",
      "\n",
      "\u001b[A\u001b[A\n",
      "chain 1 |\u001b[34m█████████ \u001b[0m| 00:27 Iteration: 1700 / 2000 [ 85%]  (Sampling)\n",
      "\u001b[A\n",
      "\n",
      "chain 1 |\u001b[34m██████████\u001b[0m| 00:31 Iteration: 1900 / 2000 [ 95%]  (Sampling)\n",
      "\n",
      "\u001b[A\u001b[A\n",
      "\n",
      "\u001b[A\u001b[A\n",
      "\n",
      "\u001b[A\u001b[A\n",
      "\n",
      "\u001b[A\u001b[A\n",
      "\n",
      "\u001b[A\u001b[A\n",
      "\n",
      "chain 1 |\u001b[34m██████████\u001b[0m| 00:44 Sampling completed                       \n",
      "chain 2 |\u001b[34m██████████\u001b[0m| 00:44 Sampling completed                       \n",
      "chain 3 |\u001b[34m██████████\u001b[0m| 00:44 Sampling completed                       \n",
      "chain 4 |\u001b[34m██████████\u001b[0m| 00:44 Sampling completed                       "
     ]
    },
    {
     "name": "stdout",
     "output_type": "stream",
     "text": [
      "                                                                                                                                                                                                                                                                                                                                "
     ]
    },
    {
     "name": "stderr",
     "output_type": "stream",
     "text": [
      "\n",
      "INFO:cmdstanpy:CmdStan done processing.\n"
     ]
    },
    {
     "name": "stdout",
     "output_type": "stream",
     "text": [
      "\n"
     ]
    }
   ],
   "source": [
    "fits2 = []\n",
    "for i,d in enumerate(data):\n",
    "    dict = {\n",
    "        \"N\": N[i],\n",
    "        \"precipitation_april\": d[\"pIV\"],\n",
    "        \"precipitation_may\": d[\"pV\"],\n",
    "        \"precipitation_june\": d[\"pVI\"],\n",
    "        \"precipitation_july\": d[\"pVII\"],\n",
    "        \"average_temperature_april\": d[\"tIV\"],\n",
    "        \"average_temperature_may\": d[\"tV\"],\n",
    "        \"average_temperature_june\": d[\"tVI\"],\n",
    "        \"average_temperature_july\": d[\"tVII\"],\n",
    "        \"yields\": d[\"yields\"]\n",
    "    }\n",
    "\n",
    "    fit2 = model_posterior2.sample(data=dict, seed=42)\n",
    "    fits2.append(fit2)"
   ]
  },
  {
   "cell_type": "code",
   "execution_count": null,
   "metadata": {},
   "outputs": [
    {
     "name": "stdout",
     "output_type": "stream",
     "text": [
      "[ 0.07103678 -0.00229617  0.01428845  0.04029697 -0.01049342 -0.04313547\n",
      "  0.00024382 -0.0085422  -0.017323    0.05526685]\n"
     ]
    },
    {
     "data": {
      "image/png": "[encoded data removed]",
      "text/plain": [
       "<Figure size 432x288 with 1 Axes>"
      ]
     },
     "metadata": {
      "needs_background": "light"
     },
     "output_type": "display_data"
    },
    {
     "name": "stdout",
     "output_type": "stream",
     "text": [
      "[ 0.0541194  -0.03041062  0.19613388  0.07014005  0.05388573 -0.0719906\n",
      "  0.0657608  -0.03459305 -0.13942742 -0.1048249 ]\n"
     ]
    },
    {
     "data": {
      "image/png": "[encoded data removed]",
      "text/plain": [
       "<Figure size 432x288 with 1 Axes>"
      ]
     },
     "metadata": {
      "needs_background": "light"
     },
     "output_type": "display_data"
    },
    {
     "name": "stdout",
     "output_type": "stream",
     "text": [
      "[-0.06364717 -0.07701355  0.05546135  0.01206257]\n"
     ]
    },
    {
     "data": {
      "image/png": "[encoded data removed]",
      "text/plain": [
       "<Figure size 432x288 with 1 Axes>"
      ]
     },
     "metadata": {
      "needs_background": "light"
     },
     "output_type": "display_data"
    },
    {
     "name": "stdout",
     "output_type": "stream",
     "text": [
      "[  1.6134015  -19.23981845 -12.494227     5.36659063   7.62077238\n",
      " -13.43378092 -11.5442235    2.5689859    1.93680682  -8.93803645\n",
      "   3.47820147   0.58526725   7.11866417  11.27623605  -2.02867415\n",
      "   5.58774552  -6.35162228  -0.75871965   5.67100825   7.2334533\n",
      "   6.9523993    3.49310057   7.92616742  -3.43697914]\n"
     ]
    },
    {
     "data": {
      "image/png": "[encoded data removed]",
      "text/plain": [
       "<Figure size 432x288 with 1 Axes>"
      ]
     },
     "metadata": {
      "needs_background": "light"
     },
     "output_type": "display_data"
    }
   ],
   "source": [
    "for i,d in enumerate(data):\n",
    "    yields_pred_posterior = fits2[i].stan_variable(\"yields_pred\")\n",
    "    yields_pred_posterior_means = np.mean(yields_pred_posterior, axis=0)\n",
    "   \n",
    "    plt.bar(list(d[\"year\"]), yields_pred_posterior_means, alpha=0.5)\n",
    "    plt.bar(list(d[\"year\"]), list(d[\"yields\"]), alpha=0.5)\n",
    "    print(yields_pred_posterior_means-list(d[\"yields\"]))\n",
    "    plt.legend([f\"posterior predictions {i}\", f\"data {i}\"])\n",
    "    plt.xlabel('years')\n",
    "    plt.ylabel('Value') \n",
    "    plt.title(f'Comparison of data{i} and posterior predictions') \n",
    "    plt.show()"
   ]
  },
  {
   "cell_type": "code",
   "execution_count": null,
   "metadata": {},
   "outputs": [
    {
     "name": "stdout",
     "output_type": "stream",
     "text": [
      "Data: 0\n",
      "a: 24.67367099775\n",
      "\n",
      "b[0]: -0.016791793457975\n",
      "c[0]: 0.33363773315125\n",
      "d[0]: 0.0035734442796199993\n",
      "\n",
      "b[1]: 0.10593486576026752\n",
      "c[1]: 0.20235258992237748\n",
      "d[1]: -0.001906152588111\n",
      "\n",
      "b[2]: -0.11762268822175\n",
      "c[2]: 0.6477397825035001\n",
      "d[2]: 0.0036132658483\n",
      "\n",
      "b[3]: 0.1015653418\n",
      "c[3]: 0.16180846611289998\n",
      "d[3]: 0.0010052920563824999\n",
      "\n",
      "\n",
      "Data: 1\n",
      "a: 20.810733249749997\n",
      "\n",
      "b[0]: 0.067243429675575\n",
      "c[0]: 0.074356682259175\n",
      "d[0]: 0.00191692982474025\n",
      "\n",
      "b[1]: 0.034903634614605\n",
      "c[1]: -0.484251983484\n",
      "d[1]: -0.0033017460542750002\n",
      "\n",
      "b[2]: -0.0034249459906024998\n",
      "c[2]: -0.15319253915527503\n",
      "d[2]: -0.0013696792057537501\n",
      "\n",
      "b[3]: 0.027369441379521\n",
      "c[3]: 0.9247010340824999\n",
      "d[3]: 0.004343159854182501\n",
      "\n",
      "\n",
      "Data: 2\n",
      "a: 24.8767192365\n",
      "\n",
      "b[0]: 0.068298244938425\n",
      "c[0]: 0.5366938952324999\n",
      "d[0]: 0.0054665133829075\n",
      "\n",
      "b[1]: 0.10806351087046\n",
      "c[1]: 0.633158722458\n",
      "d[1]: 0.00440227221519\n",
      "\n",
      "b[2]: 0.16721983903425003\n",
      "c[2]: 0.49131859349535\n",
      "d[2]: 0.0070400319696625\n",
      "\n",
      "b[3]: 0.00018439472255000022\n",
      "c[3]: 0.763445964345\n",
      "d[3]: 0.0033549319854639997\n",
      "\n",
      "\n",
      "Data: 3\n",
      "a: 3.1021404843450004\n",
      "\n",
      "b[0]: 0.136049789225\n",
      "c[0]: -0.1129843057025\n",
      "d[0]: 0.00178939337508\n",
      "\n",
      "b[1]: -0.0025898666470525003\n",
      "c[1]: -0.49768439775\n",
      "d[1]: -0.0026110148525\n",
      "\n",
      "b[2]: -0.0004902293934499999\n",
      "c[2]: 0.87884794375\n",
      "d[2]: 0.0047339459825\n",
      "\n",
      "b[3]: -0.11894541817499998\n",
      "c[3]: -0.309818806\n",
      "d[3]: -0.0020405825725\n",
      "\n",
      "\n"
     ]
    }
   ],
   "source": [
    "a = [0] * len(data)\n",
    "b = [0] * len(data)\n",
    "c = [0] * len(data)\n",
    "d = [0] * len(data)\n",
    "for i in range (len(data)):\n",
    "    a[i] = np.mean(fits2[i].stan_variable(\"a\"))\n",
    "    b[i] = np.mean(fits2[i].stan_variable(\"b\"), axis=0)\n",
    "    c[i] = np.mean(fits2[i].stan_variable(\"c\"), axis=0)\n",
    "    d[i] = np.mean(fits2[i].stan_variable(\"d\"), axis=0)\n",
    "\n",
    "    print(f\"Data: {i}\")\n",
    "    print(\"a: \" + str(a[i]))\n",
    "    print()\n",
    "    for j in range(4):\n",
    "        print(f\"b[{j}]: \" + str(b[i][j]))\n",
    "        print(f\"c[{j}]: \" + str(c[i][j]))\n",
    "        print(f\"d[{j}]: \" + str(d[i][j]))\n",
    "        print()\n",
    "    print()"
   ]
  },
  {
   "cell_type": "code",
   "execution_count": null,
   "metadata": {},
   "outputs": [
    {
     "name": "stderr",
     "output_type": "stream",
     "text": [
      "/usr/local/lib/python3.12/site-packages/arviz/stats/stats.py:811: UserWarning: Estimated shape parameter of Pareto distribution is greater than 0.7 for one or more samples. You should consider using a more robust model, this is because importance sampling is less likely to work well if the marginal posterior and LOO posterior are very different. This is more likely to happen with a non-robust model and highly influential observations.\n",
      "  warnings.warn(\n",
      "/usr/local/lib/python3.12/site-packages/arviz/stats/stats.py:811: UserWarning: Estimated shape parameter of Pareto distribution is greater than 0.7 for one or more samples. You should consider using a more robust model, this is because importance sampling is less likely to work well if the marginal posterior and LOO posterior are very different. This is more likely to happen with a non-robust model and highly influential observations.\n",
      "  warnings.warn(\n",
      "/usr/local/lib/python3.12/site-packages/arviz/stats/stats.py:1635: UserWarning: For one or more samples the posterior variance of the log predictive densities exceeds 0.4. This could be indication of WAIC starting to fail. \n",
      "See http://arxiv.org/abs/1507.04544 for details\n",
      "  warnings.warn(\n",
      "/usr/local/lib/python3.12/site-packages/arviz/stats/stats.py:1635: UserWarning: For one or more samples the posterior variance of the log predictive densities exceeds 0.4. This could be indication of WAIC starting to fail. \n",
      "See http://arxiv.org/abs/1507.04544 for details\n",
      "  warnings.warn(\n"
     ]
    },
    {
     "data": {
      "text/plain": [
       "<AxesSubplot:xlabel='Deviance'>"
      ]
     },
     "execution_count": 19,
     "metadata": {},
     "output_type": "execute_result"
    },
    {
     "data": {
      "image/png": "[encoded data removed]",
      "text/plain": [
       "<Figure size 432x144 with 1 Axes>"
      ]
     },
     "metadata": {
      "needs_background": "light"
     },
     "output_type": "display_data"
    },
    {
     "data": {
      "image/png": "[encoded data removed]",
      "text/plain": [
       "<Figure size 432x144 with 1 Axes>"
      ]
     },
     "metadata": {
      "needs_background": "light"
     },
     "output_type": "display_data"
    }
   ],
   "source": [
    "comp_dict = {\"m1\":fits[len(data)-1], \"m2\": fits2[len(data)-1]}\n",
    "comp_loo = az.compare(comp_dict, ic=\"loo\",scale=\"deviance\")\n",
    "az.plot_compare(comp_loo)\n",
    "comp_waic = az.compare(comp_dict, ic=\"waic\",scale=\"deviance\")\n",
    "az.plot_compare(comp_waic)\n"
   ]
  },
  {
   "cell_type": "markdown",
   "metadata": {},
   "source": [
    "Model 3 (z liczbą dni z opadami)"
   ]
  },
  {
   "cell_type": "code",
   "execution_count": null,
   "metadata": {},
   "outputs": [
    {
     "name": "stdout",
     "output_type": "stream",
     "text": [
      "   Year  april  may  june  july\n",
      "0  2013     11   20    18     9\n",
      "1  2014     16   18    16    14\n",
      "2  2015     12   16    10    13\n",
      "3  2016     14   16     7    21\n",
      "4  2017     17   11    15    18\n",
      "5  2018      8   12    15    22\n",
      "6  2019      6   20    12    19\n",
      "7  2020      3   17    21    20\n"
     ]
    }
   ],
   "source": [
    "df = pd.read_csv(\"weather_data_2010_2020.csv\")\n",
    "\n",
    "filtered_data = df[(df['Year'] >= 2013) & (df['Month'].isin(['april', 'may', 'june', 'july']))]\n",
    "pivot_data = filtered_data.pivot(index='Year', columns='Month', values='Rainy Days')\n",
    "pivot_data = pivot_data[['april', 'may', 'june', 'july']]\n",
    "pivot_data.reset_index(inplace=True)\n",
    "pivot_data.columns.name = None\n",
    "pivot_data.to_csv(\"filtered_weather_data.csv\", index=False)\n",
    "print(pivot_data)"
   ]
  },
  {
   "cell_type": "code",
   "execution_count": null,
   "metadata": {},
   "outputs": [
    {
     "name": "stderr",
     "output_type": "stream",
     "text": [
      "/tmp/ipykernel_414/3976432105.py:3: SettingWithCopyWarning: \n",
      "A value is trying to be set on a copy of a slice from a DataFrame.\n",
      "Try using .loc[row_indexer,col_indexer] = value instead\n",
      "\n",
      "See the caveats in the documentation: https://pandas.pydata.org/pandas-docs/stable/user_guide/indexing.html#returning-a-view-versus-a-copy\n",
      "  filtered_data_2.loc[:,'pIV'] = filtered_data_2['pIV'].values/30*pivot_data['april'].values\n",
      "/tmp/ipykernel_414/3976432105.py:4: SettingWithCopyWarning: \n",
      "A value is trying to be set on a copy of a slice from a DataFrame.\n",
      "Try using .loc[row_indexer,col_indexer] = value instead\n",
      "\n",
      "See the caveats in the documentation: https://pandas.pydata.org/pandas-docs/stable/user_guide/indexing.html#returning-a-view-versus-a-copy\n",
      "  filtered_data_2.loc[:,'pV'] = filtered_data_2['pV'].values/31*pivot_data['may'].values\n",
      "/tmp/ipykernel_414/3976432105.py:5: SettingWithCopyWarning: \n",
      "A value is trying to be set on a copy of a slice from a DataFrame.\n",
      "Try using .loc[row_indexer,col_indexer] = value instead\n",
      "\n",
      "See the caveats in the documentation: https://pandas.pydata.org/pandas-docs/stable/user_guide/indexing.html#returning-a-view-versus-a-copy\n",
      "  filtered_data_2.loc[:,'pVI'] = filtered_data_2['pVI'].values/30*pivot_data['june'].values\n",
      "/tmp/ipykernel_414/3976432105.py:6: SettingWithCopyWarning: \n",
      "A value is trying to be set on a copy of a slice from a DataFrame.\n",
      "Try using .loc[row_indexer,col_indexer] = value instead\n",
      "\n",
      "See the caveats in the documentation: https://pandas.pydata.org/pandas-docs/stable/user_guide/indexing.html#returning-a-view-versus-a-copy\n",
      "  filtered_data_2.loc[:,'pVII'] = filtered_data_2['pVII'].values/31*pivot_data['july'].values\n"
     ]
    },
    {
     "name": "stdout",
     "output_type": "stream",
     "text": [
      "   year        pIV         pV        pVI       pVII        tIV         tV  \\\n",
      "0  2013  12.744163  64.051215  74.348480  16.019451   7.349045  13.457325   \n",
      "1  2014  24.137151  63.600620  35.391681  41.050452   9.035669  12.496815   \n",
      "2  2015  12.400370  28.093798  16.263622  28.449147   6.907527  11.548387   \n",
      "3  2016  19.779054  28.337841  17.641064  89.419465   8.014474  13.055263   \n",
      "4  2017  43.033462  18.407476  43.739895  66.743687   6.263014  12.616438   \n",
      "5  2018   8.117995  19.927295  30.862609  76.397637  11.971831  15.518310   \n",
      "6  2019   5.006480  64.876475  15.695772  35.996064   8.604478  11.494030   \n",
      "7  2020   0.946711  45.462025  87.653624  42.085696   7.603175  10.120635   \n",
      "\n",
      "         tVI       tVII  yields  \n",
      "0  16.721019  18.097452    27.4  \n",
      "1  15.121019  19.316883    30.5  \n",
      "2  15.343011  18.600000    26.5  \n",
      "3  17.172000  17.902703    28.4  \n",
      "4  16.793151  17.191781    29.8  \n",
      "5  17.323944  18.787324    23.5  \n",
      "6  20.212121  17.531818    24.9  \n",
      "7  17.198413  17.620635    33.1  \n"
     ]
    }
   ],
   "source": [
    "df_2 = pd.read_csv(\"oat_data_2.csv\")\n",
    "filtered_data_2 = df_2[(df_2['year'] <= 2020)]\n",
    "filtered_data_2.loc[:,'pIV'] = filtered_data_2['pIV'].values/30*pivot_data['april'].values\n",
    "filtered_data_2.loc[:,'pV'] = filtered_data_2['pV'].values/31*pivot_data['may'].values\n",
    "filtered_data_2.loc[:,'pVI'] = filtered_data_2['pVI'].values/30*pivot_data['june'].values\n",
    "filtered_data_2.loc[:,'pVII'] = filtered_data_2['pVII'].values/31*pivot_data['july'].values\n",
    "print(filtered_data_2)"
   ]
  },
  {
   "cell_type": "code",
   "execution_count": null,
   "metadata": {},
   "outputs": [
    {
     "data": {
      "text/html": [
       "<div>\n",
       "<style scoped>\n",
       "    .dataframe tbody tr th:only-of-type {\n",
       "        vertical-align: middle;\n",
       "    }\n",
       "\n",
       "    .dataframe tbody tr th {\n",
       "        vertical-align: top;\n",
       "    }\n",
       "\n",
       "    .dataframe thead th {\n",
       "        text-align: right;\n",
       "    }\n",
       "</style>\n",
       "<table border=\"1\" class=\"dataframe\">\n",
       "  <thead>\n",
       "    <tr style=\"text-align: right;\">\n",
       "      <th></th>\n",
       "      <th>year</th>\n",
       "      <th>pIV</th>\n",
       "      <th>pV</th>\n",
       "      <th>pVI</th>\n",
       "      <th>pVII</th>\n",
       "      <th>tIV</th>\n",
       "      <th>tV</th>\n",
       "      <th>tVI</th>\n",
       "      <th>tVII</th>\n",
       "      <th>yields</th>\n",
       "    </tr>\n",
       "  </thead>\n",
       "  <tbody>\n",
       "    <tr>\n",
       "      <th>count</th>\n",
       "      <td>8.00000</td>\n",
       "      <td>8.000000</td>\n",
       "      <td>8.000000</td>\n",
       "      <td>8.000000</td>\n",
       "      <td>8.000000</td>\n",
       "      <td>8.000000</td>\n",
       "      <td>8.000000</td>\n",
       "      <td>8.000000</td>\n",
       "      <td>8.000000</td>\n",
       "      <td>8.000000</td>\n",
       "    </tr>\n",
       "    <tr>\n",
       "      <th>mean</th>\n",
       "      <td>2016.50000</td>\n",
       "      <td>15.770673</td>\n",
       "      <td>41.594593</td>\n",
       "      <td>40.199593</td>\n",
       "      <td>49.520200</td>\n",
       "      <td>8.218651</td>\n",
       "      <td>12.538400</td>\n",
       "      <td>16.985585</td>\n",
       "      <td>18.131074</td>\n",
       "      <td>28.012500</td>\n",
       "    </tr>\n",
       "    <tr>\n",
       "      <th>std</th>\n",
       "      <td>2.44949</td>\n",
       "      <td>13.331084</td>\n",
       "      <td>20.391508</td>\n",
       "      <td>27.315918</td>\n",
       "      <td>25.318533</td>\n",
       "      <td>1.757556</td>\n",
       "      <td>1.599807</td>\n",
       "      <td>1.553188</td>\n",
       "      <td>0.718322</td>\n",
       "      <td>3.119724</td>\n",
       "    </tr>\n",
       "    <tr>\n",
       "      <th>min</th>\n",
       "      <td>2013.00000</td>\n",
       "      <td>0.946711</td>\n",
       "      <td>18.407476</td>\n",
       "      <td>15.695772</td>\n",
       "      <td>16.019451</td>\n",
       "      <td>6.263014</td>\n",
       "      <td>10.120635</td>\n",
       "      <td>15.121019</td>\n",
       "      <td>17.191781</td>\n",
       "      <td>23.500000</td>\n",
       "    </tr>\n",
       "    <tr>\n",
       "      <th>25%</th>\n",
       "      <td>2014.75000</td>\n",
       "      <td>7.340116</td>\n",
       "      <td>26.052172</td>\n",
       "      <td>17.296704</td>\n",
       "      <td>34.109335</td>\n",
       "      <td>7.238665</td>\n",
       "      <td>11.534798</td>\n",
       "      <td>16.376517</td>\n",
       "      <td>17.598431</td>\n",
       "      <td>26.100000</td>\n",
       "    </tr>\n",
       "    <tr>\n",
       "      <th>50%</th>\n",
       "      <td>2016.50000</td>\n",
       "      <td>12.572267</td>\n",
       "      <td>36.899933</td>\n",
       "      <td>33.127145</td>\n",
       "      <td>41.568074</td>\n",
       "      <td>7.808824</td>\n",
       "      <td>12.556627</td>\n",
       "      <td>16.982575</td>\n",
       "      <td>18.000077</td>\n",
       "      <td>27.900000</td>\n",
       "    </tr>\n",
       "    <tr>\n",
       "      <th>75%</th>\n",
       "      <td>2018.25000</td>\n",
       "      <td>20.868578</td>\n",
       "      <td>63.713269</td>\n",
       "      <td>51.392041</td>\n",
       "      <td>69.157174</td>\n",
       "      <td>8.712275</td>\n",
       "      <td>13.155779</td>\n",
       "      <td>17.229795</td>\n",
       "      <td>18.646831</td>\n",
       "      <td>29.975000</td>\n",
       "    </tr>\n",
       "    <tr>\n",
       "      <th>max</th>\n",
       "      <td>2020.00000</td>\n",
       "      <td>43.033462</td>\n",
       "      <td>64.876475</td>\n",
       "      <td>87.653624</td>\n",
       "      <td>89.419465</td>\n",
       "      <td>11.971831</td>\n",
       "      <td>15.518310</td>\n",
       "      <td>20.212121</td>\n",
       "      <td>19.316883</td>\n",
       "      <td>33.100000</td>\n",
       "    </tr>\n",
       "  </tbody>\n",
       "</table>\n",
       "</div>"
      ],
      "text/plain": [
       "             year        pIV         pV        pVI       pVII        tIV  \\\n",
       "count     8.00000   8.000000   8.000000   8.000000   8.000000   8.000000   \n",
       "mean   2016.50000  15.770673  41.594593  40.199593  49.520200   8.218651   \n",
       "std       2.44949  13.331084  20.391508  27.315918  25.318533   1.757556   \n",
       "min    2013.00000   0.946711  18.407476  15.695772  16.019451   6.263014   \n",
       "25%    2014.75000   7.340116  26.052172  17.296704  34.109335   7.238665   \n",
       "50%    2016.50000  12.572267  36.899933  33.127145  41.568074   7.808824   \n",
       "75%    2018.25000  20.868578  63.713269  51.392041  69.157174   8.712275   \n",
       "max    2020.00000  43.033462  64.876475  87.653624  89.419465  11.971831   \n",
       "\n",
       "              tV        tVI       tVII     yields  \n",
       "count   8.000000   8.000000   8.000000   8.000000  \n",
       "mean   12.538400  16.985585  18.131074  28.012500  \n",
       "std     1.599807   1.553188   0.718322   3.119724  \n",
       "min    10.120635  15.121019  17.191781  23.500000  \n",
       "25%    11.534798  16.376517  17.598431  26.100000  \n",
       "50%    12.556627  16.982575  18.000077  27.900000  \n",
       "75%    13.155779  17.229795  18.646831  29.975000  \n",
       "max    15.518310  20.212121  19.316883  33.100000  "
      ]
     },
     "execution_count": 7,
     "metadata": {},
     "output_type": "execute_result"
    }
   ],
   "source": [
    "filtered_data_2.describe()"
   ]
  },
  {
   "cell_type": "code",
   "execution_count": null,
   "metadata": {},
   "outputs": [
    {
     "name": "stderr",
     "output_type": "stream",
     "text": [
      "INFO:cmdstanpy:compiling stan file /root/Data-Analitics-Project/project/project/oat_yield_prior_3.stan to exe file /root/Data-Analitics-Project/project/project/oat_yield_prior_3\n"
     ]
    },
    {
     "name": "stderr",
     "output_type": "stream",
     "text": [
      "INFO:cmdstanpy:compiled model executable: /root/Data-Analitics-Project/project/project/oat_yield_prior_3\n"
     ]
    }
   ],
   "source": [
    "model_prior_3 = CmdStanModel(stan_file='oat_yield_prior_3.stan')\n",
    "R = 1000"
   ]
  },
  {
   "cell_type": "code",
   "execution_count": null,
   "metadata": {},
   "outputs": [
    {
     "name": "stderr",
     "output_type": "stream",
     "text": [
      "INFO:cmdstanpy:CmdStan start processing\n",
      "chain 1 |\u001b[33m          \u001b[0m| 00:00 Status"
     ]
    },
    {
     "name": "stderr",
     "output_type": "stream",
     "text": [
      "chain 1 |\u001b[34m██████████\u001b[0m| 00:00 Sampling completed"
     ]
    },
    {
     "name": "stdout",
     "output_type": "stream",
     "text": [
      "                                                                                "
     ]
    },
    {
     "name": "stderr",
     "output_type": "stream",
     "text": [
      "\n",
      "INFO:cmdstanpy:CmdStan done processing.\n"
     ]
    },
    {
     "name": "stdout",
     "output_type": "stream",
     "text": [
      "\n"
     ]
    },
    {
     "data": {
      "image/png": "[encoded data removed]",
      "text/plain": [
       "<Figure size 432x288 with 1 Axes>"
      ]
     },
     "metadata": {
      "needs_background": "light"
     },
     "output_type": "display_data"
    }
   ],
   "source": [
    "N = len(filtered_data_2)\n",
    "dict = {\n",
    "    \"N\": N,\n",
    "    \"precipitation_june\": filtered_data_2[\"pVI\"],\n",
    "    \"average_temperature_may\": filtered_data_2[\"tV\"]\n",
    "}\n",
    "sim_3 = model_prior_3.sample(data=dict,\n",
    "                    iter_sampling=R,\n",
    "                    iter_warmup=1,\n",
    "                    chains=1,\n",
    "                    fixed_param=True,\n",
    "                    seed=42,refresh=R)\n",
    "\n",
    "yields_pred_prior = sim_3.stan_variable(\"yields\")\n",
    "yields_pred_prior_means = np.mean(yields_pred_prior, axis=0)\n",
    "\n",
    "plt.bar(list(filtered_data_2[\"year\"]), yields_pred_prior_means, alpha=0.5)\n",
    "plt.bar(list(filtered_data_2[\"year\"]), list(filtered_data_2[\"yields\"]), alpha=0.5)\n",
    "plt.legend([\"prior predictions\", \"data \"])\n",
    "plt.xlabel('years')\n",
    "plt.ylabel('Value') \n",
    "plt.title(f'Comparison of data and prior predictions') \n",
    "plt.show()"
   ]
  },
  {
   "cell_type": "code",
   "execution_count": null,
   "metadata": {},
   "outputs": [
    {
     "name": "stderr",
     "output_type": "stream",
     "text": [
      "INFO:cmdstanpy:compiling stan file /root/Data-Analitics-Project/project/project/oat_yield_posterior_3.stan to exe file /root/Data-Analitics-Project/project/project/oat_yield_posterior_3\n"
     ]
    },
    {
     "name": "stderr",
     "output_type": "stream",
     "text": [
      "INFO:cmdstanpy:compiled model executable: /root/Data-Analitics-Project/project/project/oat_yield_posterior_3\n"
     ]
    }
   ],
   "source": [
    "model_posterior_3 = CmdStanModel(stan_file='oat_yield_posterior_3.stan')"
   ]
  },
  {
   "cell_type": "code",
   "execution_count": null,
   "metadata": {},
   "outputs": [
    {
     "name": "stderr",
     "output_type": "stream",
     "text": [
      "INFO:cmdstanpy:CmdStan start processing\n",
      "chain 1 |\u001b[33m          \u001b[0m| 00:00 Status\n",
      "\u001b[A\n",
      "\n",
      "\u001b[A\u001b[A"
     ]
    },
    {
     "name": "stderr",
     "output_type": "stream",
     "text": [
      "\n",
      "\n",
      "\u001b[A\u001b[A\n",
      "chain 1 |\u001b[33m▉         \u001b[0m| 00:00 Iteration:    1 / 2000 [  0%]  (Warmup)\n",
      "\n",
      "\u001b[A\u001b[A\n",
      "chain 1 |\u001b[33m█▎        \u001b[0m| 00:00 Iteration:  100 / 2000 [  5%]  (Warmup)\n",
      "\n",
      "\u001b[A\u001b[A\n",
      "chain 1 |\u001b[33m█▊        \u001b[0m| 00:00 Iteration:  200 / 2000 [ 10%]  (Warmup)\n",
      "\n",
      "\u001b[A\u001b[A\n",
      "\n",
      "\u001b[A\u001b[A\n",
      "chain 1 |\u001b[33m██▋       \u001b[0m| 00:01 Iteration:  400 / 2000 [ 20%]  (Warmup)\n",
      "chain 1 |\u001b[33m███▋      \u001b[0m| 00:01 Iteration:  600 / 2000 [ 30%]  (Warmup)\n",
      "\n",
      "\u001b[A\u001b[A\n",
      "chain 1 |\u001b[33m████▌     \u001b[0m| 00:01 Iteration:  800 / 2000 [ 40%]  (Warmup)\n",
      "\u001b[A\n",
      "\n",
      "chain 1 |\u001b[34m█████▉    \u001b[0m| 00:01 Iteration: 1001 / 2000 [ 50%]  (Sampling)\n",
      "\n",
      "\u001b[A\u001b[A\n",
      "chain 1 |\u001b[34m██████▊   \u001b[0m| 00:01 Iteration: 1200 / 2000 [ 60%]  (Sampling)\n",
      "chain 1 |\u001b[34m███████▋  \u001b[0m| 00:01 Iteration: 1400 / 2000 [ 70%]  (Sampling)\n",
      "chain 1 |\u001b[34m█████████ \u001b[0m| 00:01 Iteration: 1700 / 2000 [ 85%]  (Sampling)\n",
      "chain 1 |\u001b[34m██████████\u001b[0m| 00:01 Sampling completed                       \n",
      "chain 2 |\u001b[34m██████████\u001b[0m| 00:01 Sampling completed                       \n",
      "chain 3 |\u001b[34m██████████\u001b[0m| 00:01 Sampling completed                       \n",
      "chain 4 |\u001b[34m██████████\u001b[0m| 00:01 Sampling completed                       "
     ]
    },
    {
     "name": "stdout",
     "output_type": "stream",
     "text": [
      "                                                                                                                                                                                                                                                "
     ]
    },
    {
     "name": "stderr",
     "output_type": "stream",
     "text": [
      "\n"
     ]
    },
    {
     "name": "stdout",
     "output_type": "stream",
     "text": [
      "                                                                                "
     ]
    },
    {
     "name": "stderr",
     "output_type": "stream",
     "text": [
      "INFO:cmdstanpy:CmdStan done processing.\n"
     ]
    },
    {
     "name": "stdout",
     "output_type": "stream",
     "text": [
      "\n",
      "[ 1.46883067 -0.86637022  0.69494827 -3.2010294   0.643554    0.01975045\n",
      "  2.26684098 -1.1387322 ]\n"
     ]
    },
    {
     "data": {
      "image/png": "[encoded data removed]",
      "text/plain": [
       "<Figure size 432x288 with 1 Axes>"
      ]
     },
     "metadata": {
      "needs_background": "light"
     },
     "output_type": "display_data"
    }
   ],
   "source": [
    "dict = {\n",
    "    \"N\": N,\n",
    "    \"precipitation_june\": filtered_data_2[\"pVI\"],\n",
    "    \"average_temperature_may\": filtered_data_2[\"tV\"],\n",
    "    \"yields\": filtered_data_2[\"yields\"]\n",
    "}\n",
    "\n",
    "fit_3 = model_posterior_3.sample(data=dict, seed=42)\n",
    "yields_pred_posterior = fit_3.stan_variable(\"yields_pred\")\n",
    "yields_pred_posterior_means = np.mean(yields_pred_posterior, axis=0)\n",
    "\n",
    "plt.bar(list(filtered_data_2[\"year\"]), yields_pred_posterior_means, alpha=0.5)\n",
    "plt.bar(list(filtered_data_2[\"year\"]), list(filtered_data_2[\"yields\"]), alpha=0.5)\n",
    "print(yields_pred_posterior_means-list(filtered_data_2[\"yields\"]))\n",
    "plt.legend([\"posterior predictions \", \"data\"])\n",
    "plt.xlabel('years')\n",
    "plt.ylabel('Value') \n",
    "plt.title('Comparison of data and posterior predictions') \n",
    "plt.show()"
   ]
  },
  {
   "cell_type": "code",
   "execution_count": null,
   "metadata": {},
   "outputs": [
    {
     "name": "stdout",
     "output_type": "stream",
     "text": [
      "a: 30.6345667\n",
      "b: 0.063985045725\n",
      "c: 0.36560480284999997\n",
      "d: 0.0031434060278249997\n"
     ]
    }
   ],
   "source": [
    "a = np.mean(fit_3.stan_variable(\"a\"))\n",
    "b = np.mean(fit_3.stan_variable(\"b\"))\n",
    "c = np.mean(fit_3.stan_variable(\"c\"))\n",
    "d = np.mean(fit_3.stan_variable(\"d\"))\n",
    "print(\"a: \" + str(a))\n",
    "print(\"b: \" + str(b))\n",
    "print(\"c: \" + str(c))\n",
    "print(\"d: \"+ str(d))"
   ]
  },
  {
   "cell_type": "markdown",
   "metadata": {},
   "source": [
    "Model 4 (model 3 dla wszystkich miesięcy)\n"
   ]
  },
  {
   "cell_type": "code",
   "execution_count": null,
   "metadata": {},
   "outputs": [
    {
     "name": "stderr",
     "output_type": "stream",
     "text": [
      "INFO:cmdstanpy:compiling stan file /root/Data-Analitics-Project/project/project/oat_yield_prior_4.stan to exe file /root/Data-Analitics-Project/project/project/oat_yield_prior_4\n",
      "INFO:cmdstanpy:compiled model executable: /root/Data-Analitics-Project/project/project/oat_yield_prior_4\n"
     ]
    }
   ],
   "source": [
    "model_prior_4 = CmdStanModel(stan_file='oat_yield_prior_4.stan')\n",
    "R = 1000"
   ]
  },
  {
   "cell_type": "code",
   "execution_count": null,
   "metadata": {},
   "outputs": [
    {
     "name": "stderr",
     "output_type": "stream",
     "text": [
      "INFO:cmdstanpy:CmdStan start processing\n",
      "chain 1 |\u001b[33m          \u001b[0m| 00:00 Status"
     ]
    },
    {
     "name": "stderr",
     "output_type": "stream",
     "text": [
      "chain 1 |\u001b[34m██████████\u001b[0m| 00:00 Sampling completed"
     ]
    },
    {
     "name": "stdout",
     "output_type": "stream",
     "text": [
      "                                                                                "
     ]
    },
    {
     "name": "stderr",
     "output_type": "stream",
     "text": [
      "\n",
      "INFO:cmdstanpy:CmdStan done processing.\n"
     ]
    },
    {
     "name": "stdout",
     "output_type": "stream",
     "text": [
      "\n"
     ]
    },
    {
     "data": {
      "image/png": "[encoded data removed]",
      "text/plain": [
       "<Figure size 432x288 with 1 Axes>"
      ]
     },
     "metadata": {
      "needs_background": "light"
     },
     "output_type": "display_data"
    }
   ],
   "source": [
    "dict = {\n",
    "    \"N\": N,\n",
    "    \"precipitation_april\": filtered_data_2[\"pIV\"],\n",
    "    \"precipitation_may\": filtered_data_2[\"pV\"],\n",
    "    \"precipitation_june\": filtered_data_2[\"pVI\"],\n",
    "    \"precipitation_july\": filtered_data_2[\"pVII\"],\n",
    "    \"average_temperature_april\": filtered_data_2[\"tIV\"],\n",
    "    \"average_temperature_may\": filtered_data_2[\"tV\"],\n",
    "    \"average_temperature_june\": filtered_data_2[\"tVI\"],\n",
    "    \"average_temperature_july\": filtered_data_2[\"tVII\"]\n",
    "}\n",
    "\n",
    "sim_4=model_prior_4.sample( data=dict,\n",
    "                    iter_sampling=R,\n",
    "                    iter_warmup=1,\n",
    "                    chains=1,\n",
    "                    fixed_param=True,\n",
    "                    seed=42,refresh=R)\n",
    "yields_pred_prior = sim_4.stan_variable(\"yields\")\n",
    "yields_pred_prior_means = np.mean(yields_pred_prior, axis=0)\n",
    "\n",
    "plt.bar(list(filtered_data_2[\"year\"]), yields_pred_prior_means, alpha=0.5)\n",
    "plt.bar(list(filtered_data_2[\"year\"]), list(filtered_data_2[\"yields\"]), alpha=0.5)\n",
    "plt.legend([\"prior predictions\", \"data \"])\n",
    "plt.xlabel('years')\n",
    "plt.ylabel('Value') \n",
    "plt.title(f'Comparison of data and prior predictions') \n",
    "plt.show()"
   ]
  },
  {
   "cell_type": "code",
   "execution_count": null,
   "metadata": {},
   "outputs": [
    {
     "name": "stderr",
     "output_type": "stream",
     "text": [
      "INFO:cmdstanpy:compiling stan file /root/Data-Analitics-Project/project/project/oat_yield_posterior_4.stan to exe file /root/Data-Analitics-Project/project/project/oat_yield_posterior_4\n"
     ]
    },
    {
     "name": "stderr",
     "output_type": "stream",
     "text": [
      "INFO:cmdstanpy:compiled model executable: /root/Data-Analitics-Project/project/project/oat_yield_posterior_4\n"
     ]
    }
   ],
   "source": [
    "model_posterior_4 = CmdStanModel(stan_file='oat_yield_posterior_4.stan')"
   ]
  },
  {
   "cell_type": "code",
   "execution_count": null,
   "metadata": {},
   "outputs": [
    {
     "name": "stderr",
     "output_type": "stream",
     "text": [
      "INFO:cmdstanpy:CmdStan start processing\n",
      "chain 1 |\u001b[33m          \u001b[0m| 00:00 Status\n",
      "\u001b[A\n",
      "\n",
      "\u001b[A\u001b[A"
     ]
    },
    {
     "name": "stderr",
     "output_type": "stream",
     "text": [
      "chain 1 |\u001b[33m▉         \u001b[0m| 00:00 Iteration:    1 / 2000 [  0%]  (Warmup)\n",
      "\u001b[A\n",
      "\n",
      "chain 1 |\u001b[33m█▊        \u001b[0m| 00:00 Iteration:  200 / 2000 [ 10%]  (Warmup)\n",
      "\n",
      "\u001b[A\u001b[A\n",
      "\n",
      "chain 1 |\u001b[33m███▏      \u001b[0m| 00:01 Iteration:  500 / 2000 [ 25%]  (Warmup)\n",
      "\n",
      "\u001b[A\u001b[A\n",
      "chain 1 |\u001b[33m████      \u001b[0m| 00:01 Iteration:  700 / 2000 [ 35%]  (Warmup)\n",
      "\n",
      "\u001b[A\u001b[A\n",
      "\u001b[A\n",
      "\n",
      "chain 1 |\u001b[33m█████     \u001b[0m| 00:01 Iteration:  900 / 2000 [ 45%]  (Warmup)\n",
      "\n",
      "\u001b[A\u001b[A\n",
      "\u001b[A\n",
      "\n",
      "chain 1 |\u001b[34m█████▉    \u001b[0m| 00:01 Iteration: 1001 / 2000 [ 50%]  (Sampling)\n",
      "\u001b[A\n",
      "\n",
      "chain 1 |\u001b[34m██████▎   \u001b[0m| 00:02 Iteration: 1100 / 2000 [ 55%]  (Sampling)\n",
      "\u001b[A\n",
      "\n",
      "chain 1 |\u001b[34m██████▊   \u001b[0m| 00:02 Iteration: 1200 / 2000 [ 60%]  (Sampling)\n",
      "\n",
      "\u001b[A\u001b[A\n",
      "chain 1 |\u001b[34m███████▎  \u001b[0m| 00:02 Iteration: 1300 / 2000 [ 65%]  (Sampling)\n",
      "\n",
      "\u001b[A\u001b[A\n",
      "\u001b[A\n",
      "\n",
      "chain 1 |\u001b[34m███████▋  \u001b[0m| 00:02 Iteration: 1400 / 2000 [ 70%]  (Sampling)\n",
      "\u001b[A\n",
      "\n",
      "chain 1 |\u001b[34m████████▏ \u001b[0m| 00:02 Iteration: 1500 / 2000 [ 75%]  (Sampling)\n",
      "\u001b[A\n",
      "\n",
      "\u001b[A\u001b[A\n",
      "\n",
      "chain 1 |\u001b[34m████████▋ \u001b[0m| 00:03 Iteration: 1600 / 2000 [ 80%]  (Sampling)\n",
      "\u001b[A\n",
      "\n",
      "\u001b[A\u001b[A\n",
      "chain 1 |\u001b[34m█████████ \u001b[0m| 00:03 Iteration: 1700 / 2000 [ 85%]  (Sampling)\n",
      "\n",
      "\u001b[A\u001b[A\n",
      "\u001b[A\n",
      "\n",
      "chain 1 |\u001b[34m█████████▌\u001b[0m| 00:03 Iteration: 1800 / 2000 [ 90%]  (Sampling)\n",
      "chain 1 |\u001b[34m██████████\u001b[0m| 00:03 Iteration: 1900 / 2000 [ 95%]  (Sampling)\n",
      "\u001b[A\n",
      "\u001b[A\n",
      "chain 1 |\u001b[34m██████████\u001b[0m| 00:04 Sampling completed                       \n",
      "chain 2 |\u001b[34m██████████\u001b[0m| 00:04 Sampling completed                       \n",
      "chain 3 |\u001b[34m██████████\u001b[0m| 00:04 Sampling completed                       \n",
      "chain 4 |\u001b[34m██████████\u001b[0m| 00:04 Sampling completed                       "
     ]
    },
    {
     "name": "stdout",
     "output_type": "stream",
     "text": [
      "                                                                                                                                                                                                                                                                                                                                "
     ]
    },
    {
     "name": "stderr",
     "output_type": "stream",
     "text": [
      "\n",
      "INFO:cmdstanpy:CmdStan done processing.\n"
     ]
    },
    {
     "name": "stdout",
     "output_type": "stream",
     "text": [
      "\n",
      "[-0.32019477  0.31113015 -0.13176173 -0.35017737  0.13212497  0.12906142\n",
      "  0.07708915  0.13221002]\n"
     ]
    },
    {
     "data": {
      "image/png": "[encoded data removed]",
      "text/plain": [
       "<Figure size 432x288 with 1 Axes>"
      ]
     },
     "metadata": {
      "needs_background": "light"
     },
     "output_type": "display_data"
    }
   ],
   "source": [
    "dict = {\n",
    "    \"N\": N,\n",
    "    \"precipitation_april\": filtered_data_2[\"pIV\"],\n",
    "    \"precipitation_may\": filtered_data_2[\"pV\"],\n",
    "    \"precipitation_june\": filtered_data_2[\"pVI\"],\n",
    "    \"precipitation_july\": filtered_data_2[\"pVII\"],\n",
    "    \"average_temperature_april\": filtered_data_2[\"tIV\"],\n",
    "    \"average_temperature_may\": filtered_data_2[\"tV\"],\n",
    "    \"average_temperature_june\": filtered_data_2[\"tVI\"],\n",
    "    \"average_temperature_july\": filtered_data_2[\"tVII\"],\n",
    "    \"yields\": filtered_data_2[\"yields\"]\n",
    "}\n",
    "\n",
    "fit_4 = model_posterior_4.sample(data=dict, seed=42)\n",
    "yields_pred_posterior = fit_4.stan_variable(\"yields_pred\")\n",
    "yields_pred_posterior_means = np.mean(yields_pred_posterior, axis=0)\n",
    "\n",
    "plt.bar(list(filtered_data_2[\"year\"]), yields_pred_posterior_means, alpha=0.5)\n",
    "plt.bar(list(filtered_data_2[\"year\"]), list(filtered_data_2[\"yields\"]), alpha=0.5)\n",
    "print(yields_pred_posterior_means-list(filtered_data_2[\"yields\"]))\n",
    "plt.legend([\"posterior predictions \", \"data\"])\n",
    "plt.xlabel('years')\n",
    "plt.ylabel('Value') \n",
    "plt.title('Comparison of data and posterior predictions') \n",
    "plt.show()"
   ]
  },
  {
   "cell_type": "code",
   "execution_count": null,
   "metadata": {},
   "outputs": [
    {
     "name": "stdout",
     "output_type": "stream",
     "text": [
      "a: 26.00326253225\n",
      "\n",
      "b[0]: 0.07743233454875\n",
      "c[0]: 0.0285486642582025\n",
      "d[0]: 0.004498607377499999\n",
      "\n",
      "b[1]: 0.007043125226725\n",
      "c[1]: 0.470046706\n",
      "d[1]: 0.0044931008175\n",
      "\n",
      "b[2]: 0.030131962808325\n",
      "c[2]: 0.45448789225\n",
      "d[2]: 0.004173468557250001\n",
      "\n",
      "b[3]: 0.044055240213475004\n",
      "c[3]: 0.5204324215\n",
      "d[3]: 0.00382358245\n",
      "\n"
     ]
    }
   ],
   "source": [
    "a = np.mean(fit_4.stan_variable(\"a\"))\n",
    "b = np.mean(fit_4.stan_variable(\"b\"), axis=0)\n",
    "c = np.mean(fit_4.stan_variable(\"c\"), axis=0)\n",
    "d = np.mean(fit_4.stan_variable(\"d\"), axis=0)\n",
    "\n",
    "print(\"a: \" + str(a))\n",
    "print()\n",
    "for j in range(4):\n",
    "    print(f\"b[{j}]: \" + str(b[j]))\n",
    "    print(f\"c[{j}]: \" + str(c[j]))\n",
    "    print(f\"d[{j}]: \" + str(d[j]))\n",
    "    print()"
   ]
  },
  {
   "cell_type": "markdown",
   "metadata": {},
   "source": [
    "Porównanie"
   ]
  },
  {
   "cell_type": "code",
   "execution_count": null,
   "metadata": {},
   "outputs": [
    {
     "name": "stderr",
     "output_type": "stream",
     "text": [
      "/usr/local/lib/python3.12/site-packages/arviz/stats/stats.py:811: UserWarning: Estimated shape parameter of Pareto distribution is greater than 0.7 for one or more samples. You should consider using a more robust model, this is because importance sampling is less likely to work well if the marginal posterior and LOO posterior are very different. This is more likely to happen with a non-robust model and highly influential observations.\n",
      "  warnings.warn(\n",
      "/usr/local/lib/python3.12/site-packages/arviz/stats/stats.py:811: UserWarning: Estimated shape parameter of Pareto distribution is greater than 0.7 for one or more samples. You should consider using a more robust model, this is because importance sampling is less likely to work well if the marginal posterior and LOO posterior are very different. This is more likely to happen with a non-robust model and highly influential observations.\n",
      "  warnings.warn(\n",
      "/usr/local/lib/python3.12/site-packages/arviz/stats/stats.py:1635: UserWarning: For one or more samples the posterior variance of the log predictive densities exceeds 0.4. This could be indication of WAIC starting to fail. \n",
      "See http://arxiv.org/abs/1507.04544 for details\n",
      "  warnings.warn(\n",
      "/usr/local/lib/python3.12/site-packages/arviz/stats/stats.py:1635: UserWarning: For one or more samples the posterior variance of the log predictive densities exceeds 0.4. This could be indication of WAIC starting to fail. \n",
      "See http://arxiv.org/abs/1507.04544 for details\n",
      "  warnings.warn(\n"
     ]
    },
    {
     "data": {
      "text/plain": [
       "<AxesSubplot:xlabel='Deviance'>"
      ]
     },
     "execution_count": 25,
     "metadata": {},
     "output_type": "execute_result"
    },
    {
     "data": {
      "image/png": "[encoded data removed]",
      "text/plain": [
       "<Figure size 432x144 with 1 Axes>"
      ]
     },
     "metadata": {
      "needs_background": "light"
     },
     "output_type": "display_data"
    },
    {
     "data": {
      "image/png": "[encoded data removed]",
      "text/plain": [
       "<Figure size 432x144 with 1 Axes>"
      ]
     },
     "metadata": {
      "needs_background": "light"
     },
     "output_type": "display_data"
    }
   ],
   "source": [
    "comp_dict = {\"m3\":fit_3, \"m4\": fit_4}\n",
    "comp_loo = az.compare(comp_dict, ic=\"loo\",scale=\"deviance\")\n",
    "az.plot_compare(comp_loo)\n",
    "comp_waic = az.compare(comp_dict, ic=\"waic\",scale=\"deviance\")\n",
    "az.plot_compare(comp_waic)"
   ]
  }
 ],
 "metadata": {
  "kernelspec": {
   "display_name": "Python 3",
   "language": "python",
   "name": "python3"
  },
  "language_info": {
   "codemirror_mode": {
    "name": "ipython",
    "version": 3
   },
   "file_extension": ".py",
   "mimetype": "text/x-python",
   "name": "python",
   "nbconvert_exporter": "python",
   "pygments_lexer": "ipython3",
   "version": "3.12.2"
  }
 },
 "nbformat": 4,
 "nbformat_minor": 2
}
