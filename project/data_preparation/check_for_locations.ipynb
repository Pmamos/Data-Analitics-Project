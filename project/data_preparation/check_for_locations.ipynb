{
 "cells": [
  {
   "cell_type": "code",
   "execution_count": 26,
   "metadata": {},
   "outputs": [
    {
     "name": "stdout",
     "output_type": "stream",
     "text": [
      "['JAB£ONKA', '£AZY', 'GOLENIÓW', 'BABIMOST']\n",
      "['JAB£ONKA', 'GOLENIÓW', 'SIERADZ', 'PRZELEWICE', 'LUBINICKO-\\x8cWIEBODZIN', 'BABIMOST', '£AZY']\n",
      "['OLEWIN', '\\x8cWIERKLANIEC', '\\x8cLIWICE', 'LIDZBARK', 'DOBROCIN', 'GDYNIA', 'KMIECIN', 'WIS£A', 'BIERUÑ STARY', 'GRUDZI¥DZ', 'MIASTKO', 'BABIMOST', 'SUKOWICE', 'G£UBCZYCE', 'BYDGOSZCZ', 'PRABUTY', 'JAB£ONKA', 'KO\\x8cCIERZYNA', '£AZY', 'CIESZYN']\n",
      "['RADOSTOWO', 'JAB£ONKA', 'G£ODOWO', 'BABIMOST', '£AZY']\n",
      "['JAB£ONKA', '£AZY']\n",
      "['\\x8cWIÊTAJNO', '£AZY', 'JAB£ONKA']\n",
      "['JAB£ONKA', '£AZY']\n",
      "['JAB£ONKA', '£AZY']\n",
      "['JAB£ONKA', '£AZY']\n",
      "['CHORZELÓW', 'KRYNICA', 'JAB£ONKA', 'ZAWADA', '£AZY']\n",
      "['JAB£ONKA', '£AZY']\n"
     ]
    }
   ],
   "source": [
    "import pandas as pd\n",
    "\n",
    "#year = 2013\n",
    "\n",
    "for year in range(2013, 2024):\n",
    "\n",
    "    df_rain = pd.read_csv('precipitation_data/o_m_' + str(year) + '.csv', encoding='unicode_escape', header=None, usecols=[1])\n",
    "    df_temp = pd.read_csv('temperature_data/k_m_t_' + str(year) + '.csv', encoding='unicode_escape', header=None, usecols=[1])\n",
    "\n",
    "    rain_loc = set(list(df_rain[1]))\n",
    "    #print(len(rain_loc), rain_loc)\n",
    "\n",
    "    temp_loc = set(list(df_temp[1]))\n",
    "    #print(len(temp_loc), temp_loc)\n",
    "\n",
    "    print(list(rain_loc.intersection(temp_loc)))"
   ]
  }
 ],
 "metadata": {
  "kernelspec": {
   "display_name": "Python 3",
   "language": "python",
   "name": "python3"
  },
  "language_info": {
   "codemirror_mode": {
    "name": "ipython",
    "version": 3
   },
   "file_extension": ".py",
   "mimetype": "text/x-python",
   "name": "python",
   "nbconvert_exporter": "python",
   "pygments_lexer": "ipython3",
   "version": "3.9.5"
  }
 },
 "nbformat": 4,
 "nbformat_minor": 2
}
